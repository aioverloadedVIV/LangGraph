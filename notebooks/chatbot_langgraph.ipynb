{
 "cells": [
  {
   "cell_type": "markdown",
   "id": "72ce9072",
   "metadata": {},
   "source": [
    "## Building a Chatbot using LangGraph"
   ]
  },
  {
   "cell_type": "code",
   "execution_count": 3,
   "id": "97c769d9",
   "metadata": {},
   "outputs": [
    {
     "data": {
      "text/plain": [
       "'\\nName: langgraph\\nVersion: 0.6.10\\nSummary: Building stateful, multi-actor applications with LLMs\\nHome-page: \\nAuthor: \\nAuthor-email: \\nLicense-Expression: MIT\\nLocation: \\nRequires: langchain-core, langgraph-checkpoint, langgraph-prebuilt, langgraph-sdk, pydantic, xxhash\\n'"
      ]
     },
     "execution_count": 3,
     "metadata": {},
     "output_type": "execute_result"
    }
   ],
   "source": [
    "# pip install langgraph\n",
    "\n",
    "\"\"\"\n",
    "Name: langgraph\n",
    "Version: 0.6.10\n",
    "Summary: Building stateful, multi-actor applications with LLMs\n",
    "Home-page: \n",
    "Author: \n",
    "Author-email: \n",
    "License-Expression: MIT\n",
    "Location: \n",
    "Requires: langchain-core, langgraph-checkpoint, langgraph-prebuilt, langgraph-sdk, pydantic, xxhash\n",
    "\"\"\""
   ]
  },
  {
   "cell_type": "code",
   "execution_count": 43,
   "id": "168a2e17",
   "metadata": {},
   "outputs": [
    {
     "name": "stdout",
     "output_type": "stream",
     "text": [
      ".env file loaded!\n",
      "No OPENAI API KEY found\n",
      "OpenAI API KEY Authenticated\n"
     ]
    }
   ],
   "source": [
    "# Loading important packages\n",
    "\n",
    "import os\n",
    "from langgraph.graph import StateGraph # State\n",
    "from typing import Annotated \n",
    "from typing_extensions import TypedDict # To Construct Agent State\n",
    "from langgraph.graph.message import add_messages\n",
    "from langchain_openai import ChatOpenAI \n",
    "\n",
    "## Loading the env file\n",
    "from dotenv import load_dotenv, find_dotenv \n",
    "if load_dotenv(find_dotenv(), override=True):\n",
    "    print(\".env file loaded!\")\n",
    "else:\n",
    "    print(\".env file not found\")\n",
    "\n",
    "## Loading the OpenAI API Key\n",
    "api_key = os.environ.get(\"OEPNAI_API_KEY\")\n",
    "if api_key:\n",
    "    print(\"got the OpenAI API Key\")\n",
    "else:\n",
    "    print(\"No OPENAI API KEY found\")\n",
    "\n",
    "## Configure the OpenAI API Key\n",
    "client = ChatOpenAI(model=\"gpt-4o-mini\", temperature=0, api_key=api_key)\n",
    "if client: \n",
    "    print(\"OpenAI API KEY Authenticated\")\n",
    "else:\n",
    "    print(\"Authentication Rejected, retry\")"
   ]
  },
  {
   "cell_type": "code",
   "execution_count": 16,
   "id": "44f8a8ad",
   "metadata": {},
   "outputs": [],
   "source": [
    "from IPython.display import Image, display\n",
    "\n",
    "# Graph State\n",
    "class State(TypedDict):\n",
    "    messages: Annotated[list, add_messages]  # messages are of type list, and messages at each node will be added but not overwritten.\n",
    "\n",
    "# Build Workflow\n",
    "graph_builder = StateGraph(State)\n",
    "# workflow = StateGraph(State)\n",
    "\n",
    "# LLM\n",
    "llm = ChatOpenAI(model=\"gpt-4o-mini\", temperature=0.5)\n",
    "\n",
    "\n",
    "# Nodes\n",
    "## LLM Node\n",
    "def chatbot(state: State):\n",
    "    \"\"\"This function takes current state as an input and returns a dictionary with updated messages list\"\"\"\n",
    "    ### Method 1\n",
    "    return {\"messages\": [llm.invoke(state[\"messages\"])]}\n",
    "    \n",
    "    ### Method 2\n",
    "    #msg = llm.invoke(state[\"messages\"])\n",
    "    #return {\"messages\":msg.content}\n",
    "\n",
    "# Adding Nodes to the graph\n",
    "graph_builder.add_node(\"chatbot\", chatbot)\n",
    "graph_builder.set_entry_point(\"chatbot\")\n",
    "graph_builder.set_finish_point(\"chatbot\")\n",
    "\n",
    "# To run our graph we need to compile it\n",
    "graph = graph_builder.compile()\n"
   ]
  },
  {
   "cell_type": "code",
   "execution_count": 17,
   "id": "1202af1b",
   "metadata": {},
   "outputs": [
    {
     "data": {
      "image/png": "[encoded data removed]",
      "text/plain": [
       "<IPython.core.display.Image object>"
      ]
     },
     "metadata": {},
     "output_type": "display_data"
    }
   ],
   "source": [
    "# To Visualize or Show Worflow\n",
    "display(Image(graph.get_graph().draw_mermaid_png()))"
   ]
  },
  {
   "cell_type": "code",
   "execution_count": 18,
   "id": "6f2e0738",
   "metadata": {},
   "outputs": [
    {
     "name": "stdout",
     "output_type": "stream",
     "text": [
      "+-----------+  \n",
      "| __start__ |  \n",
      "+-----------+  \n",
      "      *        \n",
      "      *        \n",
      "      *        \n",
      " +---------+   \n",
      " | chatbot |   \n",
      " +---------+   \n",
      "      *        \n",
      "      *        \n",
      "      *        \n",
      " +---------+   \n",
      " | __end__ |   \n",
      " +---------+   \n"
     ]
    }
   ],
   "source": [
    "# Ascii Representation of Graph\n",
    "print(graph.get_graph().draw_ascii())"
   ]
  },
  {
   "cell_type": "markdown",
   "id": "21700beb",
   "metadata": {},
   "source": [
    "#### Running the Chatbot"
   ]
  },
  {
   "cell_type": "code",
   "execution_count": 10,
   "id": "b432bd21",
   "metadata": {},
   "outputs": [
    {
     "name": "stdout",
     "output_type": "stream",
     "text": [
      "Assistant: The average distance from the Earth to the Moon is approximately 384,400 kilometers (about 238,855 miles). This distance can vary slightly due to the Moon's elliptical orbit around the Earth.\n",
      "--------------------------------------------------\n",
      "goodbye\n"
     ]
    }
   ],
   "source": [
    "while True:\n",
    "    user_input = input(\"User: \")\n",
    "    if user_input.lower() in ['quit', 'exit', 'bye', 'q']:\n",
    "        print(\"goodbye\")\n",
    "        break\n",
    "    \n",
    "    for event in graph.stream({\"messages\": (\"user\", user_input)}):\n",
    "        for value in event.values():\n",
    "            print(f\"Assistant: {value[\"messages\"][-1].content}\") # prints the last message content from assistant response\n",
    "            print(\"-\"*50)"
   ]
  },
  {
   "cell_type": "code",
   "execution_count": null,
   "id": "15b62075",
   "metadata": {},
   "outputs": [],
   "source": [
    "# Chatbot using LangGraph\n",
    "# Loading important packages\n",
    "\n",
    "import os\n",
    "from langgraph.graph import StateGraph # State\n",
    "from typing import Annotated \n",
    "from typing_extensions import TypedDict # To Construct Agent State\n",
    "from langgraph.graph.message import add_messages\n",
    "from langchain_openai import ChatOpenAI \n",
    "\n",
    "# Loading the env file\n",
    "from dotenv import load_dotenv, find_dotenv \n",
    "if load_dotenv(find_dotenv(), override=True):\n",
    "    print(\".env file loaded!\")\n",
    "else:\n",
    "    print(\".env file not found\")\n",
    "\n",
    "# Loading the OpenAI API Key\n",
    "api_key = os.environ.get(\"OEPNAI_API_KEY\")\n",
    "if api_key:\n",
    "    print(\"got the OpenAI API Key\")\n",
    "else:\n",
    "    print(\"No OPENAI API KEY found\")\n",
    "\n",
    "# Configure the OpenAI API Key\n",
    "client = ChatOpenAI(model=\"gpt-4o-mini\", temperature=0, api_key=api_key)\n",
    "if client: \n",
    "    print(\"OpenAI API KEY Authenticated\")\n",
    "else:\n",
    "    print(\"Authentication Rejected, retry\")\n",
    "\n",
    "# Graph\n",
    "class State(TypedDict):\n",
    "    messages:Annotated[list, add_messages]\n",
    "\n",
    "# Workflow\n",
    "workflow = StateGraph(State)\n",
    "\n",
    "# Setup LLM API\n",
    "llm = ChatOpenAI(model=\"gpt-4o-mini\", temperature=0.5)\n",
    "\n",
    "# Define Nodes\n",
    "## LLM Node\n",
    "def chatbot(state: State):\n",
    "    \"\"\"This function takes present State as an input and returns llm output.\"\"\"\n",
    "    msg = llm.invoke(state[\"messages\"])\n",
    "    return {\"messages\" : msg.content}\n",
    "\n",
    "# Connect Nodes\n",
    "workflow.add_node(\"chatbot\", chatbot)\n",
    "workflow.set_entry_point(\"chatbot\")\n",
    "workflow.set_finish_point(\"chatbot\")\n",
    "\n",
    "# Compile Graph\n",
    "graph = workflow.compile()\n",
    "\n",
    "# Visualize Graph\n",
    "visualize_graph = display(Image(graph.get_graph().draw_mermaid_png()))\n",
    "\n",
    "# Simple Chatbot using LangGraph\n",
    "print(\"WELCOME TO CHATBOT - LangGraph\")\n",
    "while True: \n",
    "    user_input = input(\"User: \")\n",
    "    if user_input.lower() in [\"bye\", \"quit\", \"exit\", \"q\"]:\n",
    "        print(\"Exiting..\")\n",
    "        break\n",
    "\n",
    "    elif user_input.lower() in [\"visualize\", \"visualise\"]:\n",
    "        print(visualize_graph)\n",
    "        break\n",
    "        \n",
    "    for event in graph.stream({\"messages\": (\"user\", user_input)}):\n",
    "        for value in event.values():\n",
    "            print(f\"Assistant Response: {value[\"messages\"][-1].content}\")\n",
    "            print(\"-\"*100)   \n",
    "    "
   ]
  },
  {
   "cell_type": "markdown",
   "id": "0705cf86",
   "metadata": {},
   "source": [
    "## Travily AI\n",
    "\n",
    "- ### Tavily is the web layer that supplies enterprise-grade agents with fast, real-time web data through simple, agent-first APIs, purposely built for AI.\n",
    "\n",
    "- ### Tavily Search API reviews multiple sources to find the most relevant content from each source, delivering concise, ready-to-use information optimized for LLM context.\n",
    "\n",
    "- ### Tavily offers scalable `Search`,` Extract`, `Map`, and `Crawl` APIs, all built specifically to enrich agents."
   ]
  },
  {
   "cell_type": "code",
   "execution_count": 3,
   "id": "cf50548a",
   "metadata": {},
   "outputs": [
    {
     "name": "stdout",
     "output_type": "stream",
     "text": [
      ".env file found\n"
     ]
    }
   ],
   "source": [
    "# Finding .env File\n",
    "from dotenv import load_dotenv, find_dotenv\n",
    "if not load_dotenv(find_dotenv(), override=True):\n",
    "    raise ValueError(\".env file not found\")\n",
    "else:\n",
    "    print(\".env file found\")"
   ]
  },
  {
   "cell_type": "code",
   "execution_count": 4,
   "id": "292960e4",
   "metadata": {},
   "outputs": [
    {
     "name": "stdout",
     "output_type": "stream",
     "text": [
      "API Key configured successfully\n"
     ]
    }
   ],
   "source": [
    "# Configuring API key\n",
    "import os \n",
    "from tavily import TavilyClient\n",
    "\n",
    "client = TavilyClient(api_key=os.environ.get(\"TAVILY_API_KEY\"))\n",
    "\n",
    "if client:\n",
    "    print(\"API Key configured successfully\")\n",
    "else:\n",
    "    print(\"API Key not found or incorrect.\")"
   ]
  },
  {
   "cell_type": "code",
   "execution_count": 8,
   "id": "48fd1915",
   "metadata": {},
   "outputs": [
    {
     "name": "stdout",
     "output_type": "stream",
     "text": [
      "{'query': \"What's the price of Bitcoin today?\", 'follow_up_questions': None, 'answer': None, 'images': [], 'results': [{'url': 'https://finance.yahoo.com/quote/BTC-USD/', 'title': 'Bitcoin BTC (BTC-USD) Live Price, News, Chart & ...', 'content': 'The last known price of Bitcoin is 111,377.2202793 USD and is down -3.34 over the last 24 hours.', 'score': 0.98534, 'raw_content': None}, {'url': 'https://www.coinbase.com/price/bitcoin', 'title': 'Bitcoin Price, BTC Price, Live Charts, and Marketcap', 'content': \"Price of BTC is $114,663.45 right now. Looking at Bitcoin's historical prices, it's -10% down from the previous week's price of $123,883.71, and observed a -1%\", 'score': 0.98392, 'raw_content': None}, {'url': 'https://bitflyer.com/en-us/bitcoin-chart', 'title': 'Bitcoin Price Chart (BTC/USD)', 'content': 'Check out the current Bitcoin (BTC) price, market cap, historical volatility, and buy Bitcoin on bitFlyer today with as little as $1!', 'score': 0.97784, 'raw_content': None}, {'url': 'https://robinhood.com/us/en/crypto/BTC/', 'title': 'Buy Bitcoin - BTC Price Today, Live Charts and News', 'content': 'The price of Bitcoin is $115022.97. Buy Bitcoin - BTC with $1. Invest in BTC cryptocurrency with Robinhood in the easiest and fastest way.', 'score': 0.97283, 'raw_content': None}, {'url': 'https://www.tradingview.com/symbols/BTCUSD/', 'title': 'BTC USD — Bitcoin Price and Chart', 'content': 'The current price of Bitcoin (BTC) is 111,917 USD — it has fallen −2.97% in the past 24 hours. Try placing this info into the context by checking out what coins', 'score': 0.97093, 'raw_content': None}], 'response_time': 1.4, 'request_id': 'ab716080-2525-4732-ba5c-6ab559c71365'}\n"
     ]
    }
   ],
   "source": [
    "response = client.search(query=\"What's the price of Bitcoin today?\")\n",
    "print(response)"
   ]
  },
  {
   "cell_type": "code",
   "execution_count": 10,
   "id": "eb0e8662",
   "metadata": {},
   "outputs": [
    {
     "name": "stdout",
     "output_type": "stream",
     "text": [
      "Title: Bitcoin BTC (BTC-USD) Live Price, News, Chart & ..., URL: https://finance.yahoo.com/quote/BTC-USD/, Content:The last known price of Bitcoin is 111,377.2202793 USD and is down -3.34 over the last 24 hours.\n",
      "Title: Bitcoin Price, BTC Price, Live Charts, and Marketcap, URL: https://www.coinbase.com/price/bitcoin, Content:Price of BTC is $114,663.45 right now. Looking at Bitcoin's historical prices, it's -10% down from the previous week's price of $123,883.71, and observed a -1%\n",
      "Title: Bitcoin Price Chart (BTC/USD), URL: https://bitflyer.com/en-us/bitcoin-chart, Content:Check out the current Bitcoin (BTC) price, market cap, historical volatility, and buy Bitcoin on bitFlyer today with as little as $1!\n",
      "Title: Buy Bitcoin - BTC Price Today, Live Charts and News, URL: https://robinhood.com/us/en/crypto/BTC/, Content:The price of Bitcoin is $115022.97. Buy Bitcoin - BTC with $1. Invest in BTC cryptocurrency with Robinhood in the easiest and fastest way.\n",
      "Title: BTC USD — Bitcoin Price and Chart, URL: https://www.tradingview.com/symbols/BTCUSD/, Content:The current price of Bitcoin (BTC) is 111,917 USD — it has fallen −2.97% in the past 24 hours. Try placing this info into the context by checking out what coins\n"
     ]
    }
   ],
   "source": [
    "for result in response[\"results\"]:\n",
    "    print(f\"Title: {result['title']}, URL: {result['url']}, Content:{result['content']}\")"
   ]
  },
  {
   "cell_type": "code",
   "execution_count": 11,
   "id": "b08a1902",
   "metadata": {},
   "outputs": [
    {
     "name": "stdout",
     "output_type": "stream",
     "text": [
      "{'query': 'What are the best programming languages to learn this year?', 'follow_up_questions': None, 'answer': 'In 2025, popular programming languages include Python, JavaScript, and Go. Rust and TypeScript also gain prominence, favored for their performance and type safety. Stay updated to leverage these trends in tech.', 'images': ['https://infographicplaza.com/wp-content/uploads/top-10-programming-languages-infographic-plaza.jpg', 'https://blog.pwskills.com/wp-content/uploads/2023/12/TOP-20-BEST-PROGRAMMING-LANGUAGES-.png', 'https://itechhacks.com/wp-content/uploads/2022/05/Programming-Language.png', 'https://cdn.hackr.io/uploads/posts/attachments/1677927034t0ScViNfXE.png', 'https://codingnomads.com/images/80702583-1fad-4770-1912-bda7901f7a00/public'], 'results': [{'url': 'https://spectrum.ieee.org/top-programming-languages-2025', 'title': 'The Top Programming Languages 2025 - IEEE Spectrum', 'content': 'We detail [our methodology here](https://spectrum.ieee.org/top-programming-languages-methodology-2025), but the upshot is that we merge metrics from multiple sources to create our rankings. Whether it’s a seasoned coder[using an AI to handle the grunt work](https://spectrum.ieee.org/chatgpt-code), or a neophyte vibe coding a complete web app, AI assistance means that programmers can concern themselves less and less with the particulars of any language. In practical terms, this means using one—any one—of today’s most popular general purpose [programming languages](https://spectrum.ieee.org/tag/programming-languages). [](https://www.facebook.com/sharer/sharer.php?u=https%3A%2F%2Fspectrum.ieee.org%2Ftop-programming-languages-2025%3Fmessageid%3Dpost%3A2674010559%3Acomments%3A68d6ad7d980f9f7d7b16bf62%23comment-68d6ad7d980f9f7d7b16bf62%3Fxrs%3DRebelMouse_fb%26ts%3D \"Share to Facebook\")[](https://twitter.com/intent/tweet?url=https%3A%2F%2Fspectrum.ieee.org%2Ftop-programming-languages-2025%3Fmessageid%3Dpost%3A2674010559%3Acomments%3A68d6ad7d980f9f7d7b16bf62%23comment-68d6ad7d980f9f7d7b16bf62 \"Share to Twitter\")[](https://spectrum.ieee.org/top-programming-languages-2025?messageid=post:2674010559:comments:68d6ad7d980f9f7d7b16bf62#comment-68d6ad7d980f9f7d7b16bf62 \"Open permalink\")[](javascript: void(0) \"Copy permalink\") [](https://www.facebook.com/sharer/sharer.php?u=https%3A%2F%2Fspectrum.ieee.org%2Ftop-programming-languages-2025%3Fmessageid%3Dpost%3A2674010559%3Acomments%3A68d531713dc01f2540a67d2b%23comment-68d531713dc01f2540a67d2b%3Fxrs%3DRebelMouse_fb%26ts%3D \"Share to Facebook\")[](https://twitter.com/intent/tweet?url=https%3A%2F%2Fspectrum.ieee.org%2Ftop-programming-languages-2025%3Fmessageid%3Dpost%3A2674010559%3Acomments%3A68d531713dc01f2540a67d2b%23comment-68d531713dc01f2540a67d2b \"Share to Twitter\")[](https://spectrum.ieee.org/top-programming-languages-2025?messageid=post:2674010559:comments:68d531713dc01f2540a67d2b#comment-68d531713dc01f2540a67d2b \"Open permalink\")[](javascript: void(0) \"Copy permalink\") [](https://www.facebook.com/sharer/sharer.php?u=https%3A%2F%2Fspectrum.ieee.org%2Ftop-programming-languages-2025%3Fmessageid%3Dpost%3A2674010559%3Acomments%3A68d3bb58d89f88f00573aee0%23comment-68d3bb58d89f88f00573aee0%3Fxrs%3DRebelMouse_fb%26ts%3D \"Share to Facebook\")[](https://twitter.com/intent/tweet?url=https%3A%2F%2Fspectrum.ieee.org%2Ftop-programming-languages-2025%3Fmessageid%3Dpost%3A2674010559%3Acomments%3A68d3bb58d89f88f00573aee0%23comment-68d3bb58d89f88f00573aee0 \"Share to Twitter\")[](https://spectrum.ieee.org/top-programming-languages-2025?messageid=post:2674010559:comments:68d3bb58d89f88f00573aee0#comment-68d3bb58d89f88f00573aee0 \"Open permalink\")[](javascript: void(0) \"Copy permalink\") [TPL 2025 Methodology](https://spectrum.ieee.org/top-programming-languages-methodology-2025) [The Top Programming Languages 2024](https://spectrum.ieee.org/top-programming-languages-2024)', 'score': 0.98553, 'raw_content': None}, {'url': 'https://www.bairesdev.com/blog/top-programming-languages/', 'title': 'The 100 Top Programming Languages in 2025 - BairesDev', 'content': 'Like C++, [C#](https://www.bairesdev.com/technologies/c-sharp/) is another programming language built on top of C, where object-oriented capabilities are a major addition. C# is closely related to Microsoft’s .NET framework since the Redmond giant initially developed it as part of its .NET initiative, and has now become the primary language for [.NET programming](https://www.bairesdev.com/technologies/net/). With the rise of data science and statistical software, it’s only natural that a language as laser-focused as [R](https://www.bairesdev.com/blog/r-python-best-data-science-language/) would grow among the development ranks. Also known as Golang, [Go](https://www.bairesdev.com/blog/best-languages-web-development/) is a Google-designed programming language midway between C and C++. One of the rising stars in the [software development](https://www.bairesdev.com/software-development-services/) sky, Kotlin is a cross-platform, general-purpose programming language that’s Google’s preferred language for Android development.', 'score': 0.98513, 'raw_content': None}, {'url': 'https://survey.stackoverflow.co/2025/technology', 'title': 'Technology | 2025 Stack Overflow Developer Survey', 'content': '[Twitter/X](https://twitter.com/intent/tweet?url=https://survey.stackoverflow.co/2025/technology#most-popular-technologies-language&text=All%20Respondents&via=stackoverflow)[Facebook](https://www.facebook.com/sharer/sharer.php?text=All%20Respondents&u=https://survey.stackoverflow.co/2025/technology#most-popular-technologies-language)[LinkedIn](http://www.linkedin.com/shareArticle?url=https://survey.stackoverflow.co/2025/technology#most-popular-technologies-language&mini=true&source=stackoverflow&summary=All%20Respondents) [Twitter/X](https://twitter.com/intent/tweet?url=https://survey.stackoverflow.co/2025/technology#most-popular-technologies-language-prof&text=Professional%20Developers&via=stackoverflow)[Facebook](https://www.facebook.com/sharer/sharer.php?text=Professional%20Developers&u=https://survey.stackoverflow.co/2025/technology#most-popular-technologies-language-prof)[LinkedIn](http://www.linkedin.com/shareArticle?url=https://survey.stackoverflow.co/2025/technology#most-popular-technologies-language-prof&mini=true&source=stackoverflow&summary=Professional%20Developers) [Twitter/X](https://twitter.com/intent/tweet?url=https://survey.stackoverflow.co/2025/technology#most-popular-technologies-language-learn&text=Learning%20to%20Code&via=stackoverflow)[Facebook](https://www.facebook.com/sharer/sharer.php?text=Learning%20to%20Code&u=https://survey.stackoverflow.co/2025/technology#most-popular-technologies-language-learn)[LinkedIn](http://www.linkedin.com/shareArticle?url=https://survey.stackoverflow.co/2025/technology#most-popular-technologies-language-learn&mini=true&source=stackoverflow&summary=Learning%20to%20Code) [Twitter/X](https://twitter.com/intent/tweet?url=https://survey.stackoverflow.co/2025/technology#most-popular-technologies-language-prof-ai&text=Professionals%20that%20Use%20AI&via=stackoverflow)[Facebook](https://www.facebook.com/sharer/sharer.php?text=Professionals%20that%20Use%20AI&u=https://survey.stackoverflow.co/2025/technology#most-popular-technologies-language-prof-ai)[LinkedIn](http://www.linkedin.com/shareArticle?url=https://survey.stackoverflow.co/2025/technology#most-popular-technologies-language-prof-ai&mini=true&source=stackoverflow&summary=Professionals%20that%20Use%20AI) [Twitter/X](https://twitter.com/intent/tweet?url=https://survey.stackoverflow.co/2025/technology#most-popular-technologies-language-learn-ai&text=Learners%20that%20Use%20AI&via=stackoverflow)[Facebook](https://www.facebook.com/sharer/sharer.php?text=Learners%20that%20Use%20AI&u=https://survey.stackoverflow.co/2025/technology#most-popular-technologies-language-learn-ai)[LinkedIn](http://www.linkedin.com/shareArticle?url=https://survey.stackoverflow.co/2025/technology#most-popular-technologies-language-learn-ai&mini=true&source=stackoverflow&summary=Learners%20that%20Use%20AI) [Twitter/X](https://twitter.com/intent/tweet?url=https://survey.stackoverflow.co/2025/technology#most-popular-technologies-language-write-ins&text=Write-Ins&via=stackoverflow)[Facebook](https://www.facebook.com/sharer/sharer.php?text=Write-Ins&u=https://survey.stackoverflow.co/2025/technology#most-popular-technologies-language-write-ins)[LinkedIn](http://www.linkedin.com/shareArticle?url=https://survey.stackoverflow.co/2025/technology#most-popular-technologies-language-write-ins&mini=true&source=stackoverflow&summary=Write-Ins) [Twitter/X](https://twitter.com/intent/tweet?url=https://survey.stackoverflow.co/2025/technology#most-popular-technologies-database&text=All%20Respondents&via=stackoverflow)[Facebook](https://www.facebook.com/sharer/sharer.php?text=All%20Respondents&u=https://survey.stackoverflow.co/2025/technology#most-popular-technologies-database)[LinkedIn](http://www.linkedin.com/shareArticle?url=https://survey.stackoverflow.co/2025/technology#most-popular-technologies-database&mini=true&source=stackoverflow&summary=All%20Respondents) [Twitter/X](https://twitter.com/intent/tweet?url=https://survey.stackoverflow.co/2025/technology#most-popular-technologies-database-prof&text=Professional%20Developers&via=stackoverflow)[Facebook](https://www.facebook.com/sharer/sharer.php?text=Professional%20Developers&u=https://survey.stackoverflow.co/2025/technology#most-popular-technologies-database-prof)[LinkedIn](http://www.linkedin.com/shareArticle?url=https://survey.stackoverflow.co/2025/technology#most-popular-technologies-database-prof&mini=true&source=stackoverflow&summary=Professional%20Developers) [Twitter/X](https://twitter.com/intent/tweet?url=https://survey.stackoverflow.co/2025/technology#most-popular-technologies-database-learn&text=Learning%20to%20Code&via=stackoverflow)[Facebook](https://www.facebook.com/sharer/sharer.php?text=Learning%20to%20Code&u=https://survey.stackoverflow.co/2025/technology#most-popular-technologies-database-learn)[LinkedIn](http://www.linkedin.com/shareArticle?url=https://survey.stackoverflow.co/2025/technology#most-popular-technologies-database-learn&mini=true&source=stackoverflow&summary=Learning%20to%20Code) [Twitter/X](https://twitter.com/intent/tweet?url=https://survey.stackoverflow.co/2025/technology#most-popular-technologies-database-prof-ai&text=Professionals%20that%20Use%20AI&via=stackoverflow)[Facebook](https://www.facebook.com/sharer/sharer.php?text=Professionals%20that%20Use%20AI&u=https://survey.stackoverflow.co/2025/technology#most-popular-technologies-database-prof-ai)[LinkedIn](http://www.linkedin.com/shareArticle?url=https://survey.stackoverflow.co/2025/technology#most-popular-technologies-database-prof-ai&mini=true&source=stackoverflow&summary=Professionals%20that%20Use%20AI) [Twitter/X](https://twitter.com/intent/tweet?url=https://survey.stackoverflow.co/2025/technology#most-popular-technologies-database-learn-ai&text=Learners%20that%20Use%20AI&via=stackoverflow)[Facebook](https://www.facebook.com/sharer/sharer.php?text=Learners%20that%20Use%20AI&u=https://survey.stackoverflow.co/2025/technology#most-popular-technologies-database-learn-ai)[LinkedIn](http://www.linkedin.com/shareArticle?url=https://survey.stackoverflow.co/2025/technology#most-popular-technologies-database-learn-ai&mini=true&source=stackoverflow&summary=Learners%20that%20Use%20AI) [Twitter/X](https://twitter.com/intent/tweet?url=https://survey.stackoverflow.co/2025/technology#most-popular-technologies-database-write-ins&text=Write-Ins&via=stackoverflow)[Facebook](https://www.facebook.com/sharer/sharer.php?text=Write-Ins&u=https://survey.stackoverflow.co/2025/technology#most-popular-technologies-database-write-ins)[LinkedIn](http://www.linkedin.com/shareArticle?url=https://survey.stackoverflow.co/2025/technology#most-popular-technologies-database-write-ins&mini=true&source=stackoverflow&summary=Write-Ins) [Twitter/X](https://twitter.com/intent/tweet?url=https://survey.stackoverflow.co/2025/technology#most-popular-technologies-platform&text=All%20Respondents&via=stackoverflow)[Facebook](https://www.facebook.com/sharer/sharer.php?text=All%20Respondents&u=https://survey.stackoverflow.co/2025/technology#most-popular-technologies-platform)[LinkedIn](http://www.linkedin.com/shareArticle?url=https://survey.stackoverflow.co/2025/technology#most-popular-technologies-platform&mini=true&source=stackoverflow&summary=All%20Respondents) [Twitter/X](https://twitter.com/intent/tweet?url=https://survey.stackoverflow.co/2025/technology#most-popular-technologies-platform-prof&text=Professional%20Developers&via=stackoverflow)[Facebook](https://www.facebook.com/sharer/sharer.php?text=Professional%20Developers&u=https://survey.stackoverflow.co/2025/technology#most-popular-technologies-platform-prof)[LinkedIn](http://www.linkedin.com/shareArticle?url=https://survey.stackoverflow.co/2025/technology#most-popular-technologies-platform-prof&mini=true&source=stackoverflow&summary=Professional%20Developers) [Twitter/X](https://twitter.com/intent/tweet?url=https://survey.stackoverflow.co/2025/technology#most-popular-technologies-platform-learn&text=Learning%20to%20Code&via=stackoverflow)[Facebook](https://www.facebook.com/sharer/sharer.php?text=Learning%20to%20Code&u=https://survey.stackoverflow.co/2025/technology#most-popular-technologies-platform-learn)[LinkedIn](http://www.linkedin.com/shareArticle?url=https://survey.stackoverflow.co/2025/technology#most-popular-technologies-platform-learn&mini=true&source=stackoverflow&summary=Learning%20to%20Code) [Twitter/X](https://twitter.com/intent/tweet?url=https://survey.stackoverflow.co/2025/technology#most-popular-technologies-platform-prof-ai&text=Professionals%20that%20Use%20AI&via=stackoverflow)[Facebook](https://www.facebook.com/sharer/sharer.php?text=Professionals%20that%20Use%20AI&u=https://survey.stackoverflow.co/2025/technology#most-popular-technologies-platform-prof-ai)[LinkedIn](http://www.linkedin.com/shareArticle?url=https://survey.stackoverflow.co/2025/technology#most-popular-technologies-platform-prof-ai&mini=true&source=stackoverflow&summary=Professionals%20that%20Use%20AI) [Twitter/X](https://twitter.com/intent/tweet?url=https://survey.stackoverflow.co/2025/technology#most-popular-technologies-platform-learn-ai&text=Learners%20that%20Use%20AI&via=stackoverflow)[Facebook](https://www.facebook.com/sharer/sharer.php?text=Learners%20that%20Use%20AI&u=https://survey.stackoverflow.co/2025/technology#most-popular-technologies-platform-learn-ai)[LinkedIn](http://www.linkedin.com/shareArticle?url=https://survey.stackoverflow.co/2025/technology#most-popular-technologies-platform-learn-ai&mini=true&source=stackoverflow&summary=Learners%20that%20Use%20AI) [Twitter/X](https://twitter.com/intent/tweet?url=https://survey.stackoverflow.co/2025/technology#most-popular-technologies-webframe&text=All%20Respondents&via=stackoverflow)[Facebook](https://www.facebook.com/sharer/sharer.php?text=All%20Respondents&u=https://survey.stackoverflow.co/2025/technology#most-popular-technologies-webframe)[LinkedIn](http://www.linkedin.com/shareArticle?url=https://survey.stackoverflow.co/2025/technology#most-popular-technologies-webframe&mini=true&source=stackoverflow&summary=All%20Respondents) [Twitter/X](https://twitter.com/intent/tweet?url=https://survey.stackoverflow.co/2025/technology#most-popular-technologies-webframe-prof&text=Professional%20Developers&via=stackoverflow)[Facebook](https://www.facebook.com/sharer/sharer.php?text=Professional%20Developers&u=https://survey.stackoverflow.co/2025/technology#most-popular-technologies-webframe-prof)[LinkedIn](http://www.linkedin.com/shareArticle?url=https://survey.stackoverflow.co/2025/technology#most-popular-technologies-webframe-prof&mini=true&source=stackoverflow&summary=Professional%20Developers) [Twitter/X](https://twitter.com/intent/tweet?url=https://survey.stackoverflow.co/2025/technology#most-popular-technologies-webframe-learn&text=Learning%20to%20Code&via=stackoverflow)[Facebook](https://www.facebook.com/sharer/sharer.php?text=Learning%20to%20Code&u=https://survey.stackoverflow.co/2025/technology#most-popular-technologies-webframe-learn)[LinkedIn](http://www.linkedin.com/shareArticle?url=https://survey.stackoverflow.co/2025/technology#most-popular-technologies-webframe-learn&mini=true&source=stackoverflow&summary=Learning%20to%20Code) [Twitter/X](https://twitter.com/intent/tweet?url=https://survey.stackoverflow.co/2025/technology#most-popular-technologies-webframe-prof-ai&text=Professionals%20that%20Use%20AI&via=stackoverflow)[Facebook](https://www.facebook.com/sharer/sharer.php?text=Professionals%20that%20Use%20AI&u=https://survey.stackoverflow.co/2025/technology#most-popular-technologies-webframe-prof-ai)[LinkedIn](http://www.linkedin.com/shareArticle?url=https://survey.stackoverflow.co/2025/technology#most-popular-technologies-webframe-prof-ai&mini=true&source=stackoverflow&summary=Professionals%20that%20Use%20AI) [Twitter/X](https://twitter.com/intent/tweet?url=https://survey.stackoverflow.co/2025/technology#most-popular-technologies-webframe-learn-ai&text=Learners%20that%20Use%20AI&via=stackoverflow)[Facebook](https://www.facebook.com/sharer/sharer.php?text=Learners%20that%20Use%20AI&u=https://survey.stackoverflow.co/2025/technology#most-popular-technologies-webframe-learn-ai)[LinkedIn](http://www.linkedin.com/shareArticle?url=https://survey.stackoverflow.co/2025/technology#most-popular-technologies-webframe-learn-ai&mini=true&source=stackoverflow&summary=Learners%20that%20Use%20AI) [Twitter/X](https://twitter.com/intent/tweet?url=https://survey.stackoverflow.co/2025/technology#most-popular-technologies-webframe-write-ins&text=Write-Ins&via=stackoverflow)[Facebook](https://www.facebook.com/sharer/sharer.php?text=Write-Ins&u=https://survey.stackoverflow.co/2025/technology#most-popular-technologies-webframe-write-ins)[LinkedIn](http://www.linkedin.com/shareArticle?url=https://survey.stackoverflow.co/2025/technology#most-popular-technologies-webframe-write-ins&mini=true&source=stackoverflow&summary=Write-Ins) [Twitter/X](https://twitter.com/intent/tweet?url=https://survey.stackoverflow.co/2025/technology#most-popular-technologies-dev-envs&text=All%20Respondents&via=stackoverflow)[Facebook](https://www.facebook.com/sharer/sharer.php?text=All%20Respondents&u=https://survey.stackoverflow.co/2025/technology#most-popular-technologies-dev-envs)[LinkedIn](http://www.linkedin.com/shareArticle?url=https://survey.stackoverflow.co/2025/technology#most-popular-technologies-dev-envs&mini=true&source=stackoverflow&summary=All%20Respondents) [Twitter/X](https://twitter.com/intent/tweet?url=https://survey.stackoverflow.co/2025/technology#most-popular-technologies-dev-envs-prof&text=Professional%20Developers&via=stackoverflow)[Facebook](https://www.facebook.com/sharer/sharer.php?text=Professional%20Developers&u=https://survey.stackoverflow.co/2025/technology#most-popular-technologies-dev-envs-prof)[LinkedIn](http://www.linkedin.com/shareArticle?url=https://survey.stackoverflow.co/2025/technology#most-popular-technologies-dev-envs-prof&mini=true&source=stackoverflow&summary=Professional%20Developers) [Twitter/X](https://twitter.com/intent/tweet?url=https://survey.stackoverflow.co/2025/technology#most-popular-technologies-dev-envs-learn&text=Learning%20to%20Code&via=stackoverflow)[Facebook](https://www.facebook.com/sharer/sharer.php?text=Learning%20to%20Code&u=https://survey.stackoverflow.co/2025/technology#most-popular-technologies-dev-envs-learn)[LinkedIn](http://www.linkedin.com/shareArticle?url=https://survey.stackoverflow.co/2025/technology#most-popular-technologies-dev-envs-learn&mini=true&source=stackoverflow&summary=Learning%20to%20Code) [Twitter/X](https://twitter.com/intent/tweet?url=https://survey.stackoverflow.co/2025/technology#most-popular-technologies-dev-envs-prof-ai&text=Professionals%20that%20Use%20AI&via=stackoverflow)[Facebook](https://www.facebook.com/sharer/sharer.php?text=Professionals%20that%20Use%20AI&u=https://survey.stackoverflow.co/2025/technology#most-popular-technologies-dev-envs-prof-ai)[LinkedIn](http://www.linkedin.com/shareArticle?url=https://survey.stackoverflow.co/2025/technology#most-popular-technologies-dev-envs-prof-ai&mini=true&source=stackoverflow&summary=Professionals%20that%20Use%20AI) [Twitter/X](https://twitter.com/intent/tweet?url=https://survey.stackoverflow.co/2025/technology#most-popular-technologies-dev-envs-learn-ai&text=Learners%20that%20Use%20AI&via=stackoverflow)[Facebook](https://www.facebook.com/sharer/sharer.php?text=Learners%20that%20Use%20AI&u=https://survey.stackoverflow.co/2025/technology#most-popular-technologies-dev-envs-learn-ai)[LinkedIn](http://www.linkedin.com/shareArticle?url=https://survey.stackoverflow.co/2025/technology#most-popular-technologies-dev-envs-learn-ai&mini=true&source=stackoverflow&summary=Learners%20that%20Use%20AI) [Twitter/X](https://twitter.com/intent/tweet?url=https://survey.stackoverflow.co/2025/technology#most-popular-technologies-dev-envs-write-ins&text=Write-Ins&via=stackoverflow)[Facebook](https://www.facebook.com/sharer/sharer.php?text=Write-Ins&u=https://survey.stackoverflow.co/2025/technology#most-popular-technologies-dev-envs-write-ins)[LinkedIn](http://www.linkedin.com/shareArticle?url=https://survey.stackoverflow.co/2025/technology#most-popular-technologies-dev-envs-write-ins&mini=true&source=stackoverflow&summary=Write-Ins) [Twitter/X](https://twitter.com/intent/tweet?url=https://survey.stackoverflow.co/2025/technology#most-popular-technologies-so-tags&text=All%20Respondents&via=stackoverflow)[Facebook](https://www.facebook.com/sharer/sharer.php?text=All%20Respondents&u=https://survey.stackoverflow.co/2025/technology#most-popular-technologies-so-tags)[LinkedIn](http://www.linkedin.com/shareArticle?url=https://survey.stackoverflow.co/2025/technology#most-popular-technologies-so-tags&mini=true&source=stackoverflow&summary=All%20Respondents) [Twitter/X](https://twitter.com/intent/tweet?url=https://survey.stackoverflow.co/2025/technology#most-popular-technologies-so-tags-prof&text=Professional%20Developers&via=stackoverflow)[Facebook](https://www.facebook.com/sharer/sharer.php?text=Professional%20Developers&u=https://survey.stackoverflow.co/2025/technology#most-popular-technologies-so-tags-prof)[LinkedIn](http://www.linkedin.com/shareArticle?url=https://survey.stackoverflow.co/2025/technology#most-popular-technologies-so-tags-prof&mini=true&source=stackoverflow&summary=Professional%20Developers) [Twitter/X](https://twitter.com/intent/tweet?url=https://survey.stackoverflow.co/2025/technology#most-popular-technologies-so-tags-learn&text=Learning%20to%20Code&via=stackoverflow)[Facebook](https://www.facebook.com/sharer/sharer.php?text=Learning%20to%20Code&u=https://survey.stackoverflow.co/2025/technology#most-popular-technologies-so-tags-learn)[LinkedIn](http://www.linkedin.com/shareArticle?url=https://survey.stackoverflow.co/2025/technology#most-popular-technologies-so-tags-learn&mini=true&source=stackoverflow&summary=Learning%20to%20Code) [Twitter/X](https://twitter.com/intent/tweet?url=https://survey.stackoverflow.co/2025/technology#most-popular-technologies-so-tags-prof-ai&text=Professionals%20that%20Use%20AI&via=stackoverflow)[Facebook](https://www.facebook.com/sharer/sharer.php?text=Professionals%20that%20Use%20AI&u=https://survey.stackoverflow.co/2025/technology#most-popular-technologies-so-tags-prof-ai)[LinkedIn](http://www.linkedin.com/shareArticle?url=https://survey.stackoverflow.co/2025/technology#most-popular-technologies-so-tags-prof-ai&mini=true&source=stackoverflow&summary=Professionals%20that%20Use%20AI) [Twitter/X](https://twitter.com/intent/tweet?url=https://survey.stackoverflow.co/2025/technology#most-popular-technologies-so-tags-learn-ai&text=Learners%20that%20Use%20AI&via=stackoverflow)[Facebook](https://www.facebook.com/sharer/sharer.php?text=Learners%20that%20Use%20AI&u=https://survey.stackoverflow.co/2025/technology#most-popular-technologies-so-tags-learn-ai)[LinkedIn](http://www.linkedin.com/shareArticle?url=https://survey.stackoverflow.co/2025/technology#most-popular-technologies-so-tags-learn-ai&mini=true&source=stackoverflow&summary=Learners%20that%20Use%20AI) [Twitter/X](https://twitter.com/intent/tweet?url=https://survey.stackoverflow.co/2025/technology#most-popular-technologies-comm-platform&text=All%20Respondents&via=stackoverflow)[Facebook](https://www.facebook.com/sharer/sharer.php?text=All%20Respondents&u=https://survey.stackoverflow.co/2025/technology#most-popular-technologies-comm-platform)[LinkedIn](http://www.linkedin.com/shareArticle?url=https://survey.stackoverflow.co/2025/technology#most-popular-technologies-comm-platform&mini=true&source=stackoverflow&summary=All%20Respondents) [Twitter/X](https://twitter.com/intent/tweet?url=https://survey.stackoverflow.co/2025/technology#most-popular-technologies-comm-platform-prof&text=Professional%20Developers&via=stackoverflow)[Facebook](https://www.facebook.com/sharer/sharer.php?text=Professional%20Developers&u=https://survey.stackoverflow.co/2025/technology#most-popular-technologies-comm-platform-prof)[LinkedIn](http://www.linkedin.com/shareArticle?url=https://survey.stackoverflow.co/2025/technology#most-popular-technologies-comm-platform-prof&mini=true&source=stackoverflow&summary=Professional%20Developers) [Twitter/X](https://twitter.com/intent/tweet?url=https://survey.stackoverflow.co/2025/technology#most-popular-technologies-comm-platform-learn&text=Learning%20to%20Code&via=stackoverflow)[Facebook](https://www.facebook.com/sharer/sharer.php?text=Learning%20to%20Code&u=https://survey.stackoverflow.co/2025/technology#most-popular-technologies-comm-platform-learn)[LinkedIn](http://www.linkedin.com/shareArticle?url=https://survey.stackoverflow.co/2025/technology#most-popular-technologies-comm-platform-learn&mini=true&source=stackoverflow&summary=Learning%20to%20Code) [Twitter/X](https://twitter.com/intent/tweet?url=https://survey.stackoverflow.co/2025/technology#most-popular-technologies-comm-platform-prof-ai&text=Professionals%20that%20Use%20AI&via=stackoverflow)[Facebook](https://www.facebook.com/sharer/sharer.php?text=Professionals%20that%20Use%20AI&u=https://survey.stackoverflow.co/2025/technology#most-popular-technologies-comm-platform-prof-ai)[LinkedIn](http://www.linkedin.com/shareArticle?url=https://survey.stackoverflow.co/2025/technology#most-popular-technologies-comm-platform-prof-ai&mini=true&source=stackoverflow&summary=Professionals%20that%20Use%20AI) [Twitter/X](https://twitter.com/intent/tweet?url=https://survey.stackoverflow.co/2025/technology#most-popular-technologies-comm-platform-learn-ai&text=Learners%20that%20Use%20AI&via=stackoverflow)[Facebook](https://www.facebook.com/sharer/sharer.php?text=Learners%20that%20Use%20AI&u=https://survey.stackoverflow.co/2025/technology#most-popular-technologies-comm-platform-learn-ai)[LinkedIn](http://www.linkedin.com/shareArticle?url=https://survey.stackoverflow.co/2025/technology#most-popular-technologies-comm-platform-learn-ai&mini=true&source=stackoverflow&summary=Learners%20that%20Use%20AI) [Twitter/X](https://twitter.com/intent/tweet?url=https://survey.stackoverflow.co/2025/technology#most-popular-technologies-comm-platform-write-ins&text=Write-Ins&via=stackoverflow)[Facebook](https://www.facebook.com/sharer/sharer.php?text=Write-Ins&u=https://survey.stackoverflow.co/2025/technology#most-popular-technologies-comm-platform-write-ins)[LinkedIn](http://www.linkedin.com/shareArticle?url=https://survey.stackoverflow.co/2025/technology#most-popular-technologies-comm-platform-write-ins&mini=true&source=stackoverflow&summary=Write-Ins) [Twitter/X](https://twitter.com/intent/tweet?url=https://survey.stackoverflow.co/2025/technology#most-popular-technologies-ai-models&text=All%20Respondents&via=stackoverflow)[Facebook](https://www.facebook.com/sharer/sharer.php?text=All%20Respondents&u=https://survey.stackoverflow.co/2025/technology#most-popular-technologies-ai-models)[LinkedIn](http://www.linkedin.com/shareArticle?url=https://survey.stackoverflow.co/2025/technology#most-popular-technologies-ai-models&mini=true&source=stackoverflow&summary=All%20Respondents) [Twitter/X](https://twitter.com/intent/tweet?url=https://survey.stackoverflow.co/2025/technology#most-popular-technologies-ai-models-prof&text=Professional%20Developers&via=stackoverflow)[Facebook](https://www.facebook.com/sharer/sharer.php?text=Professional%20Developers&u=https://survey.stackoverflow.co/2025/technology#most-popular-technologies-ai-models-prof)[LinkedIn](http://www.linkedin.com/shareArticle?url=https://survey.stackoverflow.co/2025/technology#most-popular-technologies-ai-models-prof&mini=true&source=stackoverflow&summary=Professional%20Developers) [Twitter/X](https://twitter.com/intent/tweet?url=https://survey.stackoverflow.co/2025/technology#most-popular-technologies-ai-models-learn&text=Learning%20to%20Code&via=stackoverflow)[Facebook](https://www.facebook.com/sharer/sharer.php?text=Learning%20to%20Code&u=https://survey.stackoverflow.co/2025/technology#most-popular-technologies-ai-models-learn)[LinkedIn](http://www.linkedin.com/shareArticle?url=https://survey.stackoverflow.co/2025/technology#most-popular-technologies-ai-models-learn&mini=true&source=stackoverflow&summary=Learning%20to%20Code) [Twitter/X](https://twitter.com/intent/tweet?url=https://survey.stackoverflow.co/2025/technology#most-popular-technologies-ai-models-prof-ai&text=Professionals%20that%20Use%20AI&via=stackoverflow)[Facebook](https://www.facebook.com/sharer/sharer.php?text=Professionals%20that%20Use%20AI&u=https://survey.stackoverflow.co/2025/technology#most-popular-technologies-ai-models-prof-ai)[LinkedIn](http://www.linkedin.com/shareArticle?url=https://survey.stackoverflow.co/2025/technology#most-popular-technologies-ai-models-prof-ai&mini=true&source=stackoverflow&summary=Professionals%20that%20Use%20AI) [Twitter/X](https://twitter.com/intent/tweet?url=https://survey.stackoverflow.co/2025/technology#most-popular-technologies-ai-models-learn-ai&text=Learners%20that%20Use%20AI&via=stackoverflow)[Facebook](https://www.facebook.com/sharer/sharer.php?text=Learners%20that%20Use%20AI&u=https://survey.stackoverflow.co/2025/technology#most-popular-technologies-ai-models-learn-ai)[LinkedIn](http://www.linkedin.com/shareArticle?url=https://survey.stackoverflow.co/2025/technology#most-popular-technologies-ai-models-learn-ai&mini=true&source=stackoverflow&summary=Learners%20that%20Use%20AI) [Twitter/X](https://twitter.com/intent/tweet?url=https://survey.stackoverflow.co/2025/technology#most-popular-technologies-ai-models-write-ins&text=Write-Ins&via=stackoverflow)[Facebook](https://www.facebook.com/sharer/sharer.php?text=Write-Ins&u=https://survey.stackoverflow.co/2025/technology#most-popular-technologies-ai-models-write-ins)[LinkedIn](http://www.linkedin.com/shareArticle?url=https://survey.stackoverflow.co/2025/technology#most-popular-technologies-ai-models-write-ins&mini=true&source=stackoverflow&summary=Write-Ins) [Twitter/X](https://twitter.com/intent/tweet?url=https://survey.stackoverflow.co/2025/technology#most-popular-technologies-office-stack-async&text=All%20Respondents&via=stackoverflow)[Facebook](https://www.facebook.com/sharer/sharer.php?text=All%20Respondents&u=https://survey.stackoverflow.co/2025/technology#most-popular-technologies-office-stack-async)[LinkedIn](http://www.linkedin.com/shareArticle?url=https://survey.stackoverflow.co/2025/technology#most-popular-technologies-office-stack-async&mini=true&source=stackoverflow&summary=All%20Respondents) [Twitter/X](https://twitter.com/intent/tweet?url=https://survey.stackoverflow.co/2025/technology#most-popular-technologies-office-stack-async-prof&text=Professional%20Developers&via=stackoverflow)[Facebook](https://www.facebook.com/sharer/sharer.php?text=Professional%20Developers&u=https://survey.stackoverflow.co/2025/technology#most-popular-technologies-office-stack-async-prof)[LinkedIn](http://www.linkedin.com/shareArticle?url=https://survey.stackoverflow.co/2025/technology#most-popular-technologies-office-stack-async-prof&mini=true&source=stackoverflow&summary=Professional%20Developers) [Twitter/X](https://twitter.com/intent/tweet?url=https://survey.stackoverflow.co/2025/technology#most-popular-technologies-office-stack-async-learn&text=Learning%20to%20Code&via=stackoverflow)[Facebook](https://www.facebook.com/sharer/sharer.php?text=Learning%20to%20Code&u=https://survey.stackoverflow.co/2025/technology#most-popular-technologies-office-stack-async-learn)[LinkedIn](http://www.linkedin.com/shareArticle?url=https://survey.stackoverflow.co/2025/technology#most-popular-technologies-office-stack-async-learn&mini=true&source=stackoverflow&summary=Learning%20to%20Code) [Twitter/X](https://twitter.com/intent/tweet?url=https://survey.stackoverflow.co/2025/technology#most-popular-technologies-office-stack-async-prof-ai&text=Professionals%20that%20Use%20AI&via=stackoverflow)[Facebook](https://www.facebook.com/sharer/sharer.php?text=Professionals%20that%20Use%20AI&u=https://survey.stackoverflow.co/2025/technology#most-popular-technologies-office-stack-async-prof-ai)[LinkedIn](http://www.linkedin.com/shareArticle?url=https://survey.stackoverflow.co/2025/technology#most-popular-technologies-office-stack-async-prof-ai&mini=true&source=stackoverflow&summary=Professionals%20that%20Use%20AI) [Twitter/X](https://twitter.com/intent/tweet?url=https://survey.stackoverflow.co/2025/technology#most-popular-technologies-office-stack-async-learn-ai&text=Learners%20that%20Use%20AI&via=stackoverflow)[Facebook](https://www.facebook.com/sharer/sharer.php?text=Learners%20that%20Use%20AI&u=https://survey.stackoverflow.co/2025/technology#most-popular-technologies-office-stack-async-learn-ai)[LinkedIn](http://www.linkedin.com/shareArticle?url=https://survey.stackoverflow.co/2025/technology#most-popular-technologies-office-stack-async-learn-ai&mini=true&source=stackoverflow&summary=Learners%20that%20Use%20AI) [Twitter/X](https://twitter.com/intent/tweet?url=https://survey.stackoverflow.co/2025/technology#most-popular-technologies-office-stack-async-write-ins&text=Write-Ins&via=stackoverflow)[Facebook](https://www.facebook.com/sharer/sharer.php?text=Write-Ins&u=https://survey.stackoverflow.co/2025/technology#most-popular-technologies-office-stack-async-write-ins)[LinkedIn](http://www.linkedin.com/shareArticle?url=https://survey.stackoverflow.co/2025/technology#most-popular-technologies-office-stack-async-write-ins&mini=true&source=stackoverflow&summary=Write-Ins) [Twitter/X](https://twitter.com/intent/tweet?url=https://survey.stackoverflow.co/2025/technology#most-popular-technologies-op-sys&text=All%20Respondents&via=stackoverflow)[Facebook](https://www.facebook.com/sharer/sharer.php?text=All%20Respondents&u=https://survey.stackoverflow.co/2025/technology#most-popular-technologies-op-sys)[LinkedIn](http://www.linkedin.com/shareArticle?url=https://survey.stackoverflow.co/2025/technology#most-popular-technologies-op-sys&mini=true&source=stackoverflow&summary=All%20Respondents) [Twitter/X](https://twitter.com/intent/tweet?url=https://survey.stackoverflow.co/2025/technology#admired-and-desired-language-desire-admire&text=Desired%20and%20Admired&via=stackoverflow)[Facebook](https://www.facebook.com/sharer/sharer.php?text=Desired%20and%20Admired&u=https://survey.stackoverflow.co/2025/technology#admired-and-desired-language-desire-admire)[LinkedIn](http://www.linkedin.com/shareArticle?url=https://survey.stackoverflow.co/2025/technology#admired-and-desired-language-desire-admire&mini=true&source=stackoverflow&summary=Desired%20and%20Admired) [Twitter/X](https://twitter.com/intent/tweet?url=https://survey.stackoverflow.co/2025/technology#admired-and-desired-database-desire-admire&text=Desired%20and%20Admired&via=stackoverflow)[Facebook](https://www.facebook.com/sharer/sharer.php?text=Desired%20and%20Admired&u=https://survey.stackoverflow.co/2025/technology#admired-and-desired-database-desire-admire)[LinkedIn](http://www.linkedin.com/shareArticle?url=https://survey.stackoverflow.co/2025/technology#admired-and-desired-database-desire-admire&mini=true&source=stackoverflow&summary=Desired%20and%20Admired) [Twitter/X](https://twitter.com/intent/tweet?url=https://survey.stackoverflow.co/2025/technology#admired-and-desired-platform-desire-admire&text=Desired%20and%20Admired&via=stackoverflow)[Facebook](https://www.facebook.com/sharer/sharer.php?text=Desired%20and%20Admired&u=https://survey.stackoverflow.co/2025/technology#admired-and-desired-platform-desire-admire)[LinkedIn](http://www.linkedin.com/shareArticle?url=https://survey.stackoverflow.co/2025/technology#admired-and-desired-platform-desire-admire&mini=true&source=stackoverflow&summary=Desired%20and%20Admired) [Twitter/X](https://twitter.com/intent/tweet?url=https://survey.stackoverflow.co/2025/technology#admired-and-desired-webframe-desire-admire&text=Desired%20and%20Admired&via=stackoverflow)[Facebook](https://www.facebook.com/sharer/sharer.php?text=Desired%20and%20Admired&u=https://survey.stackoverflow.co/2025/technology#admired-and-desired-webframe-desire-admire)[LinkedIn](http://www.linkedin.com/shareArticle?url=https://survey.stackoverflow.co/2025/technology#admired-and-desired-webframe-desire-admire&mini=true&source=stackoverflow&summary=Desired%20and%20Admired) [Twitter/X](https://twitter.com/intent/tweet?url=https://survey.stackoverflow.co/2025/technology#admired-and-desired-dev-envs-desire-admire&text=Desired%20and%20Admired&via=stackoverflow)[Facebook](https://www.facebook.com/sharer/sharer.php?text=Desired%20and%20Admired&u=https://survey.stackoverflow.co/2025/technology#admired-and-desired-dev-envs-desire-admire)[LinkedIn](http://www.linkedin.com/shareArticle?url=https://survey.stackoverflow.co/2025/technology#admired-and-desired-dev-envs-desire-admire&mini=true&source=stackoverflow&summary=Desired%20and%20Admired) [Twitter/X](https://twitter.com/intent/tweet?url=https://survey.stackoverflow.co/2025/technology#admired-and-desired-so-tags-desire-admire&text=Desired%20and%20Admired&via=stackoverflow)[Facebook](https://www.facebook.com/sharer/sharer.php?text=Desired%20and%20Admired&u=https://survey.stackoverflow.co/2025/technology#admired-and-desired-so-tags-desire-admire)[LinkedIn](http://www.linkedin.com/shareArticle?url=https://survey.stackoverflow.co/2025/technology#admired-and-desired-so-tags-desire-admire&mini=true&source=stackoverflow&summary=Desired%20and%20Admired) [Twitter/X](https://twitter.com/intent/tweet?url=https://survey.stackoverflow.co/2025/technology#admired-and-desired-comm-platform-desire-admire&text=Desired%20and%20Admired&via=stackoverflow)[Facebook](https://www.facebook.com/sharer/sharer.php?text=Desired%20and%20Admired&u=https://survey.stackoverflow.co/2025/technology#admired-and-desired-comm-platform-desire-admire)[LinkedIn](http://www.linkedin.com/shareArticle?url=https://survey.stackoverflow.co/2025/technology#admired-and-desired-comm-platform-desire-admire&mini=true&source=stackoverflow&summary=Desired%20and%20Admired) [Twitter/X](https://twitter.com/intent/tweet?url=https://survey.stackoverflow.co/2025/technology#admired-and-desired-ai-models-desire-admire&text=Desired%20and%20Admired&via=stackoverflow)[Facebook](https://www.facebook.com/sharer/sharer.php?text=Desired%20and%20Admired&u=https://survey.stackoverflow.co/2025/technology#admired-and-desired-ai-models-desire-admire)[LinkedIn](http://www.linkedin.com/shareArticle?url=https://survey.stackoverflow.co/2025/technology#admired-and-desired-ai-models-desire-admire&mini=true&source=stackoverflow&summary=Desired%20and%20Admired) [Twitter/X](https://twitter.com/intent/tweet?url=https://survey.stackoverflow.co/2025/technology#admired-and-desired-office-stack-async-desire-admire&text=Desired%20and%20Admired&via=stackoverflow)[Facebook](https://www.facebook.com/sharer/sharer.php?text=Desired%20and%20Admired&u=https://survey.stackoverflow.co/2025/technology#admired-and-desired-office-stack-async-desire-admire)[LinkedIn](http://www.linkedin.com/shareArticle?url=https://survey.stackoverflow.co/2025/technology#admired-and-desired-office-stack-async-desire-admire&mini=true&source=stackoverflow&summary=Desired%20and%20Admired) [Twitter/X](https://twitter.com/intent/tweet?url=https://survey.stackoverflow.co/2025/technology#worked-with-vs-want-to-work-with-language-worked-want&text=All%20Respondents&via=stackoverflow)[Facebook](https://www.facebook.com/sharer/sharer.php?text=All%20Respondents&u=https://survey.stackoverflow.co/2025/technology#worked-with-vs-want-to-work-with-language-worked-want)[LinkedIn](http://www.linkedin.com/shareArticle?url=https://survey.stackoverflow.co/2025/technology#worked-with-vs-want-to-work-with-language-worked-want&mini=true&source=stackoverflow&summary=All%20Respondents) [Twitter/X](https://twitter.com/intent/tweet?url=https://survey.stackoverflow.co/2025/technology#worked-with-vs-want-to-work-with-language-worked-want-prof&text=Professional%20Developers&via=stackoverflow)[Facebook](https://www.facebook.com/sharer/sharer.php?text=Professional%20Developers&u=https://survey.stackoverflow.co/2025/technology#worked-with-vs-want-to-work-with-language-worked-want-prof)[LinkedIn](http://www.linkedin.com/shareArticle?url=https://survey.stackoverflow.co/2025/technology#worked-with-vs-want-to-work-with-language-worked-want-prof&mini=true&source=stackoverflow&summary=Professional%20Developers) [Twitter/X](https://twitter.com/intent/tweet?url=https://survey.stackoverflow.co/2025/technology#worked-with-vs-want-to-work-with-language-worked-want-learn&text=Learning%20to%20Code&via=stackoverflow)[Facebook](https://www.facebook.com/sharer/sharer.php?text=Learning%20to%20Code&u=https://survey.stackoverflow.co/2025/technology#worked-with-vs-want-to-work-with-language-worked-want-learn)[LinkedIn](http://www.linkedin.com/shareArticle?url=https://survey.stackoverflow.co/2025/technology#worked-with-vs-want-to-work-with-language-worked-want-learn&mini=true&source=stackoverflow&summary=Learning%20to%20Code) [Twitter/X](https://twitter.com/intent/tweet?url=https://survey.stackoverflow.co/2025/technology#worked-with-vs-want-to-work-with-language-worked-want-prof-ai&text=Professionals%20that%20Use%20AI&via=stackoverflow)[Facebook](https://www.facebook.com/sharer/sharer.php?text=Professionals%20that%20Use%20AI&u=https://survey.stackoverflow.co/2025/technology#worked-with-vs-want-to-work-with-language-worked-want-prof-ai)[LinkedIn](http://www.linkedin.com/shareArticle?url=https://survey.stackoverflow.co/2025/technology#worked-with-vs-want-to-work-with-language-worked-want-prof-ai&mini=true&source=stackoverflow&summary=Professionals%20that%20Use%20AI) [Twitter/X](https://twitter.com/intent/tweet?url=https://survey.stackoverflow.co/2025/technology#worked-with-vs-want-to-work-with-language-worked-want-learn-ai&text=Learners%20that%20Use%20AI&via=stackoverflow)[Facebook](https://www.facebook.com/sharer/sharer.php?text=Learners%20that%20Use%20AI&u=https://survey.stackoverflow.co/2025/technology#worked-with-vs-want-to-work-with-language-worked-want-learn-ai)[LinkedIn](http://www.linkedin.com/shareArticle?url=https://survey.stackoverflow.co/2025/technology#worked-with-vs-want-to-work-with-language-worked-want-learn-ai&mini=true&source=stackoverflow&summary=Learners%20that%20Use%20AI) [Twitter/X](https://twitter.com/intent/tweet?url=https://survey.stackoverflow.co/2025/technology#worked-with-vs-want-to-work-with-database-worked-want&text=All%20Respondents&via=stackoverflow)[Facebook](https://www.facebook.com/sharer/sharer.php?text=All%20Respondents&u=https://survey.stackoverflow.co/2025/technology#worked-with-vs-want-to-work-with-database-worked-want)[LinkedIn](http://www.linkedin.com/shareArticle?url=https://survey.stackoverflow.co/2025/technology#worked-with-vs-want-to-work-with-database-worked-want&mini=true&source=stackoverflow&summary=All%20Respondents) [Twitter/X](https://twitter.com/intent/tweet?url=https://survey.stackoverflow.co/2025/technology#worked-with-vs-want-to-work-with-database-worked-want-prof&text=Professional%20Developers&via=stackoverflow)[Facebook](https://www.facebook.com/sharer/sharer.php?text=Professional%20Developers&u=https://survey.stackoverflow.co/2025/technology#worked-with-vs-want-to-work-with-database-worked-want-prof)[LinkedIn](http://www.linkedin.com/shareArticle?url=https://survey.stackoverflow.co/2025/technology#worked-with-vs-want-to-work-with-database-worked-want-prof&mini=true&source=stackoverflow&summary=Professional%20Developers) [Twitter/X](https://twitter.com/intent/tweet?url=https://survey.stackoverflow.co/2025/technology#worked-with-vs-want-to-work-with-database-worked-want-learn&text=Learning%20to%20Code&via=stackoverflow)[Facebook](https://www.facebook.com/sharer/sharer.php?text=Learning%20to%20Code&u=https://survey.stackoverflow.co/2025/technology#worked-with-vs-want-to-work-with-database-worked-want-learn)[LinkedIn](http://www.linkedin.com/shareArticle?url=https://survey.stackoverflow.co/2025/technology#worked-with-vs-want-to-work-with-database-worked-want-learn&mini=true&source=stackoverflow&summary=Learning%20to%20Code) [Twitter/X](https://twitter.com/intent/tweet?url=https://survey.stackoverflow.co/2025/technology#worked-with-vs-want-to-work-with-database-worked-want-prof-ai&text=Professionals%20that%20Use%20AI&via=stackoverflow)[Facebook](https://www.facebook.com/sharer/sharer.php?text=Professionals%20that%20Use%20AI&u=https://survey.stackoverflow.co/2025/technology#worked-with-vs-want-to-work-with-database-worked-want-prof-ai)[LinkedIn](http://www.linkedin.com/shareArticle?url=https://survey.stackoverflow.co/2025/technology#worked-with-vs-want-to-work-with-database-worked-want-prof-ai&mini=true&source=stackoverflow&summary=Professionals%20that%20Use%20AI) [Download chart](https://survey.stackoverflow.co/2025/charts/stackoverflow-dev-survey-2025-technology-worked-with-vs-want-to-work-with-database-worked-want-learn-ai-social.png) [Twitter/X](https://twitter.com/intent/tweet?url=https://survey.stackoverflow.co/2025/technology#worked-with-vs-want-to-work-with-database-worked-want-learn-ai&text=Learners%20that%20Use%20AI&via=stackoverflow)[Facebook](https://www.facebook.com/sharer/sharer.php?text=Learners%20that%20Use%20AI&u=https://survey.stackoverflow.co/2025/technology#worked-with-vs-want-to-work-with-database-worked-want-learn-ai)[LinkedIn](http://www.linkedin.com/shareArticle?url=https://survey.stackoverflow.co/2025/technology#worked-with-vs-want-to-work-with-database-worked-want-learn-ai&mini=true&source=stackoverflow&summary=Learners%20that%20Use%20AI) [Twitter/X](https://twitter.com/intent/tweet?url=https://survey.stackoverflow.co/2025/technology#worked-with-vs-want-to-work-with-platform-worked-want&text=All%20Respondents&via=stackoverflow)[Facebook](https://www.facebook.com/sharer/sharer.php?text=All%20Respondents&u=https://survey.stackoverflow.co/2025/technology#worked-with-vs-want-to-work-with-platform-worked-want)[LinkedIn](http://www.linkedin.com/shareArticle?url=https://survey.stackoverflow.co/2025/technology#worked-with-vs-want-to-work-with-platform-worked-want&mini=true&source=stackoverflow&summary=All%20Respondents) [Twitter/X](https://twitter.com/intent/tweet?url=https://survey.stackoverflow.co/2025/technology#worked-with-vs-want-to-work-with-platform-worked-want-prof&text=Professional%20Developers&via=stackoverflow)[Facebook](https://www.facebook.com/sharer/sharer.php?text=Professional%20Developers&u=https://survey.stackoverflow.co/2025/technology#worked-with-vs-want-to-work-with-platform-worked-want-prof)[LinkedIn](http://www.linkedin.com/shareArticle?url=https://survey.stackoverflow.co/2025/technology#worked-with-vs-want-to-work-with-platform-worked-want-prof&mini=true&source=stackoverflow&summary=Professional%20Developers) [Twitter/X](https://twitter.com/intent/tweet?url=https://survey.stackoverflow.co/2025/technology#worked-with-vs-want-to-work-with-platform-worked-want-learn&text=Learning%20to%20Code&via=stackoverflow)[Facebook](https://www.facebook.com/sharer/sharer.php?text=Learning%20to%20Code&u=https://survey.stackoverflow.co/2025/technology#worked-with-vs-want-to-work-with-platform-worked-want-learn)[LinkedIn](http://www.linkedin.com/shareArticle?url=https://survey.stackoverflow.co/2025/technology#worked-with-vs-want-to-work-with-platform-worked-want-learn&mini=true&source=stackoverflow&summary=Learning%20to%20Code) [Download chart](https://survey.stackoverflow.co/2025/charts/stackoverflow-dev-survey-2025-technology-worked-with-vs-want-to-work-with-platform-worked-want-prof-ai-social.png) [Twitter/X](https://twitter.com/intent/tweet?url=https://survey.stackoverflow.co/2025/technology#worked-with-vs-want-to-work-with-platform-worked-want-prof-ai&text=Professionals%20that%20Use%20AI&via=stackoverflow)[Facebook](https://www.facebook.com/sharer/sharer.php?text=Professionals%20that%20Use%20AI&u=https://survey.stackoverflow.co/2025/technology#worked-with-vs-want-to-work-with-platform-worked-want-prof-ai)[LinkedIn](http://www.linkedin.com/shareArticle?url=https://survey.stackoverflow.co/2025/technology#worked-with-vs-want-to-work-with-platform-worked-want-prof-ai&mini=true&source=stackoverflow&summary=Professionals%20that%20Use%20AI) [Download chart](https://survey.stackoverflow.co/2025/charts/stackoverflow-dev-survey-2025-technology-worked-with-vs-want-to-work-with-platform-worked-want-learn-ai-social.png) [Twitter/X](https://twitter.com/intent/tweet?url=https://survey.stackoverflow.co/2025/technology#worked-with-vs-want-to-work-with-platform-worked-want-learn-ai&text=Learners%20that%20Use%20AI&via=stackoverflow)[Facebook](https://www.facebook.com/sharer/sharer.php?text=Learners%20that%20Use%20AI&u=https://survey.stackoverflow.co/2025/technology#worked-with-vs-want-to-work-with-platform-worked-want-learn-ai)[LinkedIn](http://www.linkedin.com/shareArticle?url=https://survey.stackoverflow.co/2025/technology#worked-with-vs-want-to-work-with-platform-worked-want-learn-ai&mini=true&source=stackoverflow&summary=Learners%20that%20Use%20AI) [Twitter/X](https://twitter.com/intent/tweet?url=https://survey.stackoverflow.co/2025/technology#worked-with-vs-want-to-work-with-webframe-worked-want&text=All%20Respondents&via=stackoverflow)[Facebook](https://www.facebook.com/sharer/sharer.php?text=All%20Respondents&u=https://survey.stackoverflow.co/2025/technology#worked-with-vs-want-to-work-with-webframe-worked-want)[LinkedIn](http://www.linkedin.com/shareArticle?url=https://survey.stackoverflow.co/2025/technology#worked-with-vs-want-to-work-with-webframe-worked-want&mini=true&source=stackoverflow&summary=All%20Respondents) [Twitter/X](https://twitter.com/intent/tweet?url=https://survey.stackoverflow.co/2025/technology#worked-with-vs-want-to-work-with-webframe-worked-want-prof&text=Professional%20Developers&via=stackoverflow)[Facebook](https://www.facebook.com/sharer/sharer.php?text=Professional%20Developers&u=https://survey.stackoverflow.co/2025/technology#worked-with-vs-want-to-work-with-webframe-worked-want-prof)[LinkedIn](http://www.linkedin.com/shareArticle?url=https://survey.stackoverflow.co/2025/technology#worked-with-vs-want-to-work-with-webframe-worked-want-prof&mini=true&source=stackoverflow&summary=Professional%20Developers) [Twitter/X](https://twitter.com/intent/tweet?url=https://survey.stackoverflow.co/2025/technology#worked-with-vs-want-to-work-with-webframe-worked-want-learn&text=Learning%20to%20Code&via=stackoverflow)[Facebook](https://www.facebook.com/sharer/sharer.php?text=Learning%20to%20Code&u=https://survey.stackoverflow.co/2025/technology#worked-with-vs-want-to-work-with-webframe-worked-want-learn)[LinkedIn](http://www.linkedin.com/shareArticle?url=https://survey.stackoverflow.co/2025/technology#worked-with-vs-want-to-work-with-webframe-worked-want-learn&mini=true&source=stackoverflow&summary=Learning%20to%20Code) [Twitter/X](https://twitter.com/intent/tweet?url=https://survey.stackoverflow.co/2025/technology#worked-with-vs-want-to-work-with-webframe-worked-want-prof-ai&text=Professionals%20that%20Use%20AI&via=stackoverflow)[Facebook](https://www.facebook.com/sharer/sharer.php?text=Professionals%20that%20Use%20AI&u=https://survey.stackoverflow.co/2025/technology#worked-with-vs-want-to-work-with-webframe-worked-want-prof-ai)[LinkedIn](http://www.linkedin.com/shareArticle?url=https://survey.stackoverflow.co/2025/technology#worked-with-vs-want-to-work-with-webframe-worked-want-prof-ai&mini=true&source=stackoverflow&summary=Professionals%20that%20Use%20AI) [Twitter/X](https://twitter.com/intent/tweet?url=https://survey.stackoverflow.co/2025/technology#worked-with-vs-want-to-work-with-webframe-worked-want-learn-ai&text=Learners%20that%20Use%20AI&via=stackoverflow)[Facebook](https://www.facebook.com/sharer/sharer.php?text=Learners%20that%20Use%20AI&u=https://survey.stackoverflow.co/2025/technology#worked-with-vs-want-to-work-with-webframe-worked-want-learn-ai)[LinkedIn](http://www.linkedin.com/shareArticle?url=https://survey.stackoverflow.co/2025/technology#worked-with-vs-want-to-work-with-webframe-worked-want-learn-ai&mini=true&source=stackoverflow&summary=Learners%20that%20Use%20AI) [Twitter/X](https://twitter.com/intent/tweet?url=https://survey.stackoverflow.co/2025/technology#worked-with-vs-want-to-work-with-dev-envs-worked-want&text=All%20Respondents&via=stackoverflow)[Facebook](https://www.facebook.com/sharer/sharer.php?text=All%20Respondents&u=https://survey.stackoverflow.co/2025/technology#worked-with-vs-want-to-work-with-dev-envs-worked-want)[LinkedIn](http://www.linkedin.com/shareArticle?url=https://survey.stackoverflow.co/2025/technology#worked-with-vs-want-to-work-with-dev-envs-worked-want&mini=true&source=stackoverflow&summary=All%20Respondents) [Twitter/X](https://twitter.com/intent/tweet?url=https://survey.stackoverflow.co/2025/technology#worked-with-vs-want-to-work-with-dev-envs-worked-want-prof&text=Professional%20Developers&via=stackoverflow)[Facebook](https://www.facebook.com/sharer/sharer.php?text=Professional%20Developers&u=https://survey.stackoverflow.co/2025/technology#worked-with-vs-want-to-work-with-dev-envs-worked-want-prof)[LinkedIn](http://www.linkedin.com/shareArticle?url=https://survey.stackoverflow.co/2025/technology#worked-with-vs-want-to-work-with-dev-envs-worked-want-prof&mini=true&source=stackoverflow&summary=Professional%20Developers) [Twitter/X](https://twitter.com/intent/tweet?url=https://survey.stackoverflow.co/2025/technology#worked-with-vs-want-to-work-with-dev-envs-worked-want-learn&text=Learning%20to%20Code&via=stackoverflow)[Facebook](https://www.facebook.com/sharer/sharer.php?text=Learning%20to%20Code&u=https://survey.stackoverflow.co/2025/technology#worked-with-vs-want-to-work-with-dev-envs-worked-want-learn)[LinkedIn](http://www.linkedin.com/shareArticle?url=https://survey.stackoverflow.co/2025/technology#worked-with-vs-want-to-work-with-dev-envs-worked-want-learn&mini=true&source=stackoverflow&summary=Learning%20to%20Code) [Twitter/X](https://twitter.com/intent/tweet?url=https://survey.stackoverflow.co/2025/technology#worked-with-vs-want-to-work-with-dev-envs-worked-want-prof-ai&text=Professionals%20that%20Use%20AI&via=stackoverflow)[Facebook](https://www.facebook.com/sharer/sharer.php?text=Professionals%20that%20Use%20AI&u=https://survey.stackoverflow.co/2025/technology#worked-with-vs-want-to-work-with-dev-envs-worked-want-prof-ai)[LinkedIn](http://www.linkedin.com/shareArticle?url=https://survey.stackoverflow.co/2025/technology#worked-with-vs-want-to-work-with-dev-envs-worked-want-prof-ai&mini=true&source=stackoverflow&summary=Professionals%20that%20Use%20AI) [Twitter/X](https://twitter.com/intent/tweet?url=https://survey.stackoverflow.co/2025/technology#worked-with-vs-want-to-work-with-dev-envs-worked-want-learn-ai&text=Learners%20that%20Use%20AI&via=stackoverflow)[Facebook](https://www.facebook.com/sharer/sharer.php?text=Learners%20that%20Use%20AI&u=https://survey.stackoverflow.co/2025/technology#worked-with-vs-want-to-work-with-dev-envs-worked-want-learn-ai)[LinkedIn](http://www.linkedin.com/shareArticle?url=https://survey.stackoverflow.co/2025/technology#worked-with-vs-want-to-work-with-dev-envs-worked-want-learn-ai&mini=true&source=stackoverflow&summary=Learners%20that%20Use%20AI) [Twitter/X](https://twitter.com/intent/tweet?url=https://survey.stackoverflow.co/2025/technology#worked-with-vs-want-to-work-with-so-tags-worked-want&text=All%20Respondents&via=stackoverflow)[Facebook](https://www.facebook.com/sharer/sharer.php?text=All%20Respondents&u=https://survey.stackoverflow.co/2025/technology#worked-with-vs-want-to-work-with-so-tags-worked-want)[LinkedIn](http://www.linkedin.com/shareArticle?url=https://survey.stackoverflow.co/2025/technology#worked-with-vs-want-to-work-with-so-tags-worked-want&mini=true&source=stackoverflow&summary=All%20Respondents) [Twitter/X](https://twitter.com/intent/tweet?url=https://survey.stackoverflow.co/2025/technology#worked-with-vs-want-to-work-with-so-tags-worked-want-prof&text=Professional%20Developers&via=stackoverflow)[Facebook](https://www.facebook.com/sharer/sharer.php?text=Professional%20Developers&u=https://survey.stackoverflow.co/2025/technology#worked-with-vs-want-to-work-with-so-tags-worked-want-prof)[LinkedIn](http://www.linkedin.com/shareArticle?url=https://survey.stackoverflow.co/2025/technology#worked-with-vs-want-to-work-with-so-tags-worked-want-prof&mini=true&source=stackoverflow&summary=Professional%20Developers) [Twitter/X](https://twitter.com/intent/tweet?url=https://survey.stackoverflow.co/2025/technology#worked-with-vs-want-to-work-with-so-tags-worked-want-learn&text=Learning%20to%20Code&via=stackoverflow)[Facebook](https://www.facebook.com/sharer/sharer.php?text=Learning%20to%20Code&u=https://survey.stackoverflow.co/2025/technology#worked-with-vs-want-to-work-with-so-tags-worked-want-learn)[LinkedIn](http://www.linkedin.com/shareArticle?url=https://survey.stackoverflow.co/2025/technology#worked-with-vs-want-to-work-with-so-tags-worked-want-learn&mini=true&source=stackoverflow&summary=Learning%20to%20Code) [Twitter/X](https://twitter.com/intent/tweet?url=https://survey.stackoverflow.co/2025/technology#worked-with-vs-want-to-work-with-so-tags-worked-want-prof-ai&text=Professionals%20that%20Use%20AI&via=stackoverflow)[Facebook](https://www.facebook.com/sharer/sharer.php?text=Professionals%20that%20Use%20AI&u=https://survey.stackoverflow.co/2025/technology#worked-with-vs-want-to-work-with-so-tags-worked-want-prof-ai)[LinkedIn](http://www.linkedin.com/shareArticle?url=https://survey.stackoverflow.co/2025/technology#worked-with-vs-want-to-work-with-so-tags-worked-want-prof-ai&mini=true&source=stackoverflow&summary=Professionals%20that%20Use%20AI) [Twitter/X](https://twitter.com/intent/tweet?url=https://survey.stackoverflow.co/2025/technology#worked-with-vs-want-to-work-with-so-tags-worked-want-learn-ai&text=Learners%20that%20Use%20AI&via=stackoverflow)[Facebook](https://www.facebook.com/sharer/sharer.php?text=Learners%20that%20Use%20AI&u=https://survey.stackoverflow.co/2025/technology#worked-with-vs-want-to-work-with-so-tags-worked-want-learn-ai)[LinkedIn](http://www.linkedin.com/shareArticle?url=https://survey.stackoverflow.co/2025/technology#worked-with-vs-want-to-work-with-so-tags-worked-want-learn-ai&mini=true&source=stackoverflow&summary=Learners%20that%20Use%20AI) [Twitter/X](https://twitter.com/intent/tweet?url=https://survey.stackoverflow.co/2025/technology#worked-with-vs-want-to-work-with-comm-platform-worked-want&text=All%20Respondents&via=stackoverflow)[Facebook](https://www.facebook.com/sharer/sharer.php?text=All%20Respondents&u=https://survey.stackoverflow.co/2025/technology#worked-with-vs-want-to-work-with-comm-platform-worked-want)[LinkedIn](http://www.linkedin.com/shareArticle?url=https://survey.stackoverflow.co/2025/technology#worked-with-vs-want-to-work-with-comm-platform-worked-want&mini=true&source=stackoverflow&summary=All%20Respondents) [Twitter/X](https://twitter.com/intent/tweet?url=https://survey.stackoverflow.co/2025/technology#worked-with-vs-want-to-work-with-comm-platform-worked-want-prof&text=Professional%20Developers&via=stackoverflow)[Facebook](https://www.facebook.com/sharer/sharer.php?text=Professional%20Developers&u=https://survey.stackoverflow.co/2025/technology#worked-with-vs-want-to-work-with-comm-platform-worked-want-prof)[LinkedIn](http://www.linkedin.com/shareArticle?url=https://survey.stackoverflow.co/2025/technology#worked-with-vs-want-to-work-with-comm-platform-worked-want-prof&mini=true&source=stackoverflow&summary=Professional%20Developers) [Twitter/X](https://twitter.com/intent/tweet?url=https://survey.stackoverflow.co/2025/technology#worked-with-vs-want-to-work-with-comm-platform-worked-want-learn&text=Learning%20to%20Code&via=stackoverflow)[Facebook](https://www.facebook.com/sharer/sharer.php?text=Learning%20to%20Code&u=https://survey.stackoverflow.co/2025/technology#worked-with-vs-want-to-work-with-comm-platform-worked-want-learn)[LinkedIn](http://www.linkedin.com/shareArticle?url=https://survey.stackoverflow.co/2025/technology#worked-with-vs-want-to-work-with-comm-platform-worked-want-learn&mini=true&source=stackoverflow&summary=Learning%20to%20Code) [Download chart](https://survey.stackoverflow.co/2025/charts/stackoverflow-dev-survey-2025-technology-worked-with-vs-want-to-work-with-comm-platform-worked-want-prof-ai-social.png) [Twitter/X](https://twitter.com/intent/tweet?url=https://survey.stackoverflow.co/2025/technology#worked-with-vs-want-to-work-with-comm-platform-worked-want-prof-ai&text=Professionals%20that%20Use%20AI&via=stackoverflow)[Facebook](https://www.facebook.com/sharer/sharer.php?text=Professionals%20that%20Use%20AI&u=https://survey.stackoverflow.co/2025/technology#worked-with-vs-want-to-work-with-comm-platform-worked-want-prof-ai)[LinkedIn](http://www.linkedin.com/shareArticle?url=https://survey.stackoverflow.co/2025/technology#worked-with-vs-want-to-work-with-comm-platform-worked-want-prof-ai&mini=true&source=stackoverflow&summary=Professionals%20that%20Use%20AI) [Download chart](https://survey.stackoverflow.co/2025/charts/stackoverflow-dev-survey-2025-technology-worked-with-vs-want-to-work-with-comm-platform-worked-want-learn-ai-social.png) [Twitter/X](https://twitter.com/intent/tweet?url=https://survey.stackoverflow.co/2025/technology#worked-with-vs-want-to-work-with-comm-platform-worked-want-learn-ai&text=Learners%20that%20Use%20AI&via=stackoverflow)[Facebook](https://www.facebook.com/sharer/sharer.php?text=Learners%20that%20Use%20AI&u=https://survey.stackoverflow.co/2025/technology#worked-with-vs-want-to-work-with-comm-platform-worked-want-learn-ai)[LinkedIn](http://www.linkedin.com/shareArticle?url=https://survey.stackoverflow.co/2025/technology#worked-with-vs-want-to-work-with-comm-platform-worked-want-learn-ai&mini=true&source=stackoverflow&summary=Learners%20that%20Use%20AI) [Twitter/X](https://twitter.com/intent/tweet?url=https://survey.stackoverflow.co/2025/technology#worked-with-vs-want-to-work-with-ai-models-worked-want&text=All%20Respondents&via=stackoverflow)[Facebook](https://www.facebook.com/sharer/sharer.php?text=All%20Respondents&u=https://survey.stackoverflow.co/2025/technology#worked-with-vs-want-to-work-with-ai-models-worked-want)[LinkedIn](http://www.linkedin.com/shareArticle?url=https://survey.stackoverflow.co/2025/technology#worked-with-vs-want-to-work-with-ai-models-worked-want&mini=true&source=stackoverflow&summary=All%20Respondents) [Twitter/X](https://twitter.com/intent/tweet?url=https://survey.stackoverflow.co/2025/technology#worked-with-vs-want-to-work-with-ai-models-worked-want-prof&text=Professional%20Developers&via=stackoverflow)[Facebook](https://www.facebook.com/sharer/sharer.php?text=Professional%20Developers&u=https://survey.stackoverflow.co/2025/technology#worked-with-vs-want-to-work-with-ai-models-worked-want-prof)[LinkedIn](http://www.linkedin.com/shareArticle?url=https://survey.stackoverflow.co/2025/technology#worked-with-vs-want-to-work-with-ai-models-worked-want-prof&mini=true&source=stackoverflow&summary=Professional%20Developers) [Twitter/X](https://twitter.com/intent/tweet?url=https://survey.stackoverflow.co/2025/technology#worked-with-vs-want-to-work-with-ai-models-worked-want-learn&text=Learning%20to%20Code&via=stackoverflow)[Facebook](https://www.facebook.com/sharer/sharer.php?text=Learning%20to%20Code&u=https://survey.stackoverflow.co/2025/technology#worked-with-vs-want-to-work-with-ai-models-worked-want-learn)[LinkedIn](http://www.linkedin.com/shareArticle?url=https://survey.stackoverflow.co/2025/technology#worked-with-vs-want-to-work-with-ai-models-worked-want-learn&mini=true&source=stackoverflow&summary=Learning%20to%20Code) [Twitter/X](https://twitter.com/intent/tweet?url=https://survey.stackoverflow.co/2025/technology#worked-with-vs-want-to-work-with-ai-models-worked-want-prof-ai&text=Professionals%20that%20Use%20AI&via=stackoverflow)[Facebook](https://www.facebook.com/sharer/sharer.php?text=Professionals%20that%20Use%20AI&u=https://survey.stackoverflow.co/2025/technology#worked-with-vs-want-to-work-with-ai-models-worked-want-prof-ai)[LinkedIn](http://www.linkedin.com/shareArticle?url=https://survey.stackoverflow.co/2025/technology#worked-with-vs-want-to-work-with-ai-models-worked-want-prof-ai&mini=true&source=stackoverflow&summary=Professionals%20that%20Use%20AI) [Twitter/X](https://twitter.com/intent/tweet?url=https://survey.stackoverflow.co/2025/technology#worked-with-vs-want-to-work-with-ai-models-worked-want-learn-ai&text=Learners%20that%20Use%20AI&via=stackoverflow)[Facebook](https://www.facebook.com/sharer/sharer.php?text=Learners%20that%20Use%20AI&u=https://survey.stackoverflow.co/2025/technology#worked-with-vs-want-to-work-with-ai-models-worked-want-learn-ai)[LinkedIn](http://www.linkedin.com/shareArticle?url=https://survey.stackoverflow.co/2025/technology#worked-with-vs-want-to-work-with-ai-models-worked-want-learn-ai&mini=true&source=stackoverflow&summary=Learners%20that%20Use%20AI) [Twitter/X](https://twitter.com/intent/tweet?url=https://survey.stackoverflow.co/2025/technology#worked-with-vs-want-to-work-with-office-stack-async-worked-want&text=All%20Respondents&via=stackoverflow)[Facebook](https://www.facebook.com/sharer/sharer.php?text=All%20Respondents&u=https://survey.stackoverflow.co/2025/technology#worked-with-vs-want-to-work-with-office-stack-async-worked-want)[LinkedIn](http://www.linkedin.com/shareArticle?url=https://survey.stackoverflow.co/2025/technology#worked-with-vs-want-to-work-with-office-stack-async-worked-want&mini=true&source=stackoverflow&summary=All%20Respondents) [Twitter/X](https://twitter.com/intent/tweet?url=https://survey.stackoverflow.co/2025/technology#worked-with-vs-want-to-work-with-office-stack-async-worked-want-prof&text=Professional%20Developers&via=stackoverflow)[Facebook](https://www.facebook.com/sharer/sharer.php?text=Professional%20Developers&u=https://survey.stackoverflow.co/2025/technology#worked-with-vs-want-to-work-with-office-stack-async-worked-want-prof)[LinkedIn](http://www.linkedin.com/shareArticle?url=https://survey.stackoverflow.co/2025/technology#worked-with-vs-want-to-work-with-office-stack-async-worked-want-prof&mini=true&source=stackoverflow&summary=Professional%20Developers) [Twitter/X](https://twitter.com/intent/tweet?url=https://survey.stackoverflow.co/2025/technology#worked-with-vs-want-to-work-with-office-stack-async-worked-want-learn&text=Learning%20to%20Code&via=stackoverflow)[Facebook](https://www.facebook.com/sharer/sharer.php?text=Learning%20to%20Code&u=https://survey.stackoverflow.co/2025/technology#worked-with-vs-want-to-work-with-office-stack-async-worked-want-learn)[LinkedIn](http://www.linkedin.com/shareArticle?url=https://survey.stackoverflow.co/2025/technology#worked-with-vs-want-to-work-with-office-stack-async-worked-want-learn&mini=true&source=stackoverflow&summary=Learning%20to%20Code) [Download chart](https://survey.stackoverflow.co/2025/charts/stackoverflow-dev-survey-2025-technology-worked-with-vs-want-to-work-with-office-stack-async-worked-want-prof-ai-social.png) [Twitter/X](https://twitter.com/intent/tweet?url=https://survey.stackoverflow.co/2025/technology#worked-with-vs-want-to-work-with-office-stack-async-worked-want-prof-ai&text=Professionals%20that%20Use%20AI&via=stackoverflow)[Facebook](https://www.facebook.com/sharer/sharer.php?text=Professionals%20that%20Use%20AI&u=https://survey.stackoverflow.co/2025/technology#worked-with-vs-want-to-work-with-office-stack-async-worked-want-prof-ai)[LinkedIn](http://www.linkedin.com/shareArticle?url=https://survey.stackoverflow.co/2025/technology#worked-with-vs-want-to-work-with-office-stack-async-worked-want-prof-ai&mini=true&source=stackoverflow&summary=Professionals%20that%20Use%20AI) [Download chart](https://survey.stackoverflow.co/2025/charts/stackoverflow-dev-survey-2025-technology-worked-with-vs-want-to-work-with-office-stack-async-worked-want-learn-ai-social.png) [Twitter/X](https://twitter.com/intent/tweet?url=https://survey.stackoverflow.co/2025/technology#worked-with-vs-want-to-work-with-office-stack-async-worked-want-learn-ai&text=Learners%20that%20Use%20AI&via=stackoverflow)[Facebook](https://www.facebook.com/sharer/sharer.php?text=Learners%20that%20Use%20AI&u=https://survey.stackoverflow.co/2025/technology#worked-with-vs-want-to-work-with-office-stack-async-worked-want-learn-ai)[LinkedIn](http://www.linkedin.com/shareArticle?url=https://survey.stackoverflow.co/2025/technology#worked-with-vs-want-to-work-with-office-stack-async-worked-want-learn-ai&mini=true&source=stackoverflow&summary=Learners%20that%20Use%20AI)', 'score': 0.98312, 'raw_content': None}, {'url': 'https://www.pluralsight.com/resources/blog/upskilling/top-programming-languages-2025', 'title': 'Top 10 programming languages in 2025 - Pluralsight', 'content': 'Every year, Pluralsight conducts a meta-study of the most popular programming languages based on the last 12 months of data, so IT professionals can figure out what’s trending right now. It’s a vital tool for web developers and it is easy to learn as a high-level interpreted language. It’s no surprise that JavaScript was one of the most searched-for languages by tech learners on the Pluralsight platform in 2024 given its “popularity.” C has been dropping through the ranks, sitting at #6 in 2022 and now at #8 as other languages rise in popularity. Pluralsight offers expert-authored Skill IQ tests where you can answer a series of questions about each language and see where you rank against other professionals, as well as beginner-to-expert learning pathways.', 'score': 0.97306, 'raw_content': None}, {'url': 'https://www.youtube.com/watch?v=NClmyC6olC0', 'title': 'Top Programming Languages to Learn in 2025 - YouTube', 'content': 'Top Programming Languages to Learn in 2025\\nProgramming with Mosh\\n4810000 subscribers\\n7154 likes\\n259970 views\\n22 Jan 2025\\nWant to future-proof your coding skills? Discover the top programming languages that will dominate in 2025, with real-world use cases and career insights. Don’t miss out—stay ahead in tech!\\n\\n❤️ Join this channel to get access to perks:\\nhttps://www.youtube.com/channel/UCWv7vMbMWH4-V0ZXdmDpPBA/join\\n\\n🔗 Tutorials \\nhttps://youtu.be/_uQrJ0TkZlc?si=PlSZ9OJl2sku4sIH\\nhttps://youtu.be/kqtD5dpn9C8?si=tr53YlfyrMqsi_RF\\nhttps://youtu.be/eIrMbAQSU34?si=n1fSY_7d96rzzomX\\nhttps://youtu.be/W6NZfCO5SIk?si=uaOUNhKhr2dOySV2\\nhttps://youtu.be/d56mG7DezGs?si=Kpc4FFmYOWKvpPIc\\nhttps://youtu.be/7S_tz1z_5bA?si=83GhWNiU_J9MB2e2\\nhttps://youtu.be/ZzaPdXTrSb8?si=Ve9Y4HTogsj_pJLM\\n\\n✋ Stay connected:\\n- Full Courses: https://codewithmosh.com\\n- Twitter: https://twitter.com/moshhamedani\\n- Facebook: https://www.facebook.com/programmingwithmosh/\\n- Instagram: https://www.instagram.com/codewithmosh.official/\\n- LinkedIn: https://www.linkedin.com/school/codewithmosh/\\n\\n#coding #programming\\n508 comments\\n', 'score': 0.97234, 'raw_content': None}, {'url': 'https://www.fullstackacademy.com/blog/nine-best-programming-languages-to-learn', 'title': 'The 15 Best Programming Languages to Learn in 2025', 'content': '[Skip to main content](https://www.fullstackacademy.com/blog/nine-best-programming-languages-to-learn#main) [Learn More](https://www.fullstackacademy.com/blog/nine-best-programming-languages-to-learn#) 1.   [What is a Programming Language?](https://www.fullstackacademy.com/blog/nine-best-programming-languages-to-learn#what_is_a_programming_language_) 2.   [Major Types of Programming Languages](https://www.fullstackacademy.com/blog/nine-best-programming-languages-to-learn#major_types_of_programming_languages) 4.   [Best Programming Languages to Learn For Your Career Goals](https://www.fullstackacademy.com/blog/nine-best-programming-languages-to-learn#best_programming_languages_to_learn_for_your_career_goals) 5.   [It’s Code Time](https://www.fullstackacademy.com/blog/nine-best-programming-languages-to-learn#it_s_code_time) With increasing demand for dynamic web applications, it’s nearly impossible to become a professional software developer without [learning JavaScript](https://www.fullstackacademy.com/blog/learn-javascript-for-free-13-online-tutorials-resources). [Learn More](https://www.fullstackacademy.com/programs/online-coding-bootcamp) Along with Python, [SQL programming](https://www.fullstackacademy.com/programs/coding-bootcamp/skills/sql) is essential to efficiently using data in web applications, making it one of the best programming languages to learn. [Learn More](https://www.fullstackacademy.com/programs/online-coding-bootcamp) [Learn More](https://www.fullstackacademy.com/programs/online-coding-bootcamp) [Learn More](https://www.fullstackacademy.com/programs/online-coding-bootcamp) [Learn More](https://www.fullstackacademy.com/programs/online-coding-bootcamp) An immersive program, like [Fullstack Academy’s coding bootcamp](https://www.fullstackacademy.com/programs/online-coding-bootcamp), can help prepare you for a fulfilling career in software development. _\\\\_Ready to dig in?\\\\_ \\\\_[Learn more about our immersive bootcamps in web development and programming.](https://www.fullstackacademy.com/)\\\\__ [Learn More](https://www.fullstackacademy.com/programs/coding-bootcamp) *   [Beginner Coding Bootcamp](https://www.fullstackacademy.com/programs/web-development-bootcamp)', 'score': 0.97072, 'raw_content': None}, {'url': 'https://monkeyjunglejuice.github.io/blog/best-programming-language-for-beginner.essay.html', 'title': 'Best Programming Language for absolute Beginners? (2025 Update)', 'content': 'But if you start out, you don’t need to just learn a programming language; as a beginner: Most programming books or courses are not made for absolute beginners, but for programmers who want to *learn yet another language*. Remember, you want to *learn programming*, not just a language. If that sounds like it makes no sense, think about it this way: All programming languages compile down to another language on a lower level anyway, and those again and again, until your code’s representation is only 11010101. Secondly, Elm is a pure functional programming language: That makes it’s easier to reason about what code actually does. ### OCaml as Your First Programming Language', 'score': 0.96877, 'raw_content': None}], 'response_time': 3.76, 'request_id': '46da654e-9a9d-4e46-aa6e-a1ff722e1268'}\n"
     ]
    }
   ],
   "source": [
    "response = client.search(\n",
    "    query=\"What are the best programming languages to learn this year?\",\n",
    "    search_depth=\"advanced\", # choose basic for quick results\n",
    "    max_results=7,\n",
    "    include_images=True,\n",
    "    include_answer=True,\n",
    "    include_raw_content=False,\n",
    "    )\n",
    "\n",
    "print(response)"
   ]
  },
  {
   "cell_type": "code",
   "execution_count": 12,
   "id": "c6b81c68",
   "metadata": {},
   "outputs": [
    {
     "name": "stdout",
     "output_type": "stream",
     "text": [
      "Real Madrid won the 2024 UEFA Champions League final. They defeated Borussia Dortmund 2-0 in the final held at Wembley Stadium. This victory marked Real Madrid's 15th European Cup.\n"
     ]
    }
   ],
   "source": [
    "# Can be used as Tool for AI Agent\n",
    "answer = client.qna_search(query=\"Who won the UEFA Champions League in 2024?\")\n",
    "print(answer)"
   ]
  },
  {
   "cell_type": "code",
   "execution_count": 13,
   "id": "020820a1",
   "metadata": {},
   "outputs": [
    {
     "data": {
      "text/plain": [
       "[{'url': 'https://medium.com/aimonks/reflection-agents-with-langgraph-agentic-llm-based-applications-87e43c27adc7',\n",
       "  'title': 'Reflection Agents With LangGraph | Agentic LLM Based Applications',\n",
       "  'content': 'In this first article, we’ll go over what is reflection in LLM based applications. Types of reflection agents and their implementations. When to use reflection agents and much more.\\n\\n## What Is Reflection?\\n\\nReflection is a prompting strategy used to improve the quality and success rate of agents and similar AI systems. It involves prompting an LLM to reflect on and critique its past actions, sometimes incorporating additional external information such as tools and observations. [...] So, let’s move ahead and create these two agents and have the reflect agent critique the initial response manually, then we’ll move on to doing the same with LangGraph in a more sophisticated and automated manner. Open the `basic_02.py`file and have the following code inside of it. [...] So basically to achieve reflection in LLM based systems, we have multiple LLM agents. Some that generate content(Generative part of LLMs). Others that reflect on generated content and give constructive criticism that can then be used to optimize the next generation in the cycle to make the content better. Let’s take a look into the types of these reflection types we can work with. There may be many more approaches considering the type of publishing this article. Keep this in mind.',\n",
       "  'score': 0.7413937,\n",
       "  'raw_content': None},\n",
       " {'url': 'https://www.analyticsvidhya.com/blog/2025/03/enhancing-code-quality-with-langgraph-reflection/',\n",
       "  'title': 'Enhancing Code Quality with LangGraph Reflection - Analytics Vidhya',\n",
       "  'content': '### Frequently Asked Questions\\n\\nA. LangGraph Reflection is a powerful framework that combines a primary AI agent (for code generation or task execution) with a critique agent (to identify issues and suggest improvements). This iterative loop improves the final output by leveraging feedback and reflection. [...] 1. Main Agent: Generates initial code based on the user’s request.\\n2. Critique Agent: Validates the generated code using Pyright.\\n3. Reflection Process: If errors are detected, the main agent is called again to refine the code until no issues remain.\\n\\nAlso Read: Agentic Frameworks for Generative AI Applications\\n\\n## How to Implement the LangGraph Reflection Framework\\n\\nHere is a Step-by-Step Guide for an Illustrative Implementation and Usage:\\n\\n### Step 1: Environment Setup [...] A. The reflection mechanism follows this workflow:  \\n– Main Agent: Generates the initial output.  \\n– Critique Agent: Analyzes the generated output for errors or improvements.  \\n– Improvement Loop: If issues are found, the main agent is re-invoked with feedback for refinement. This loop continues until the output meets quality standards.',\n",
       "  'score': 0.7154444,\n",
       "  'raw_content': None},\n",
       " {'url': 'https://datalearningscience.com/p/4-reflection-agentic-design-pattern',\n",
       "  'title': '4. Reflection — Agentic Design Pattern Series',\n",
       "  'content': 'When to Use: For fact-based content generation. The reflection step involves using a web search or database tool to verify every claim made in the first draft.\\n Key Tip: The critique is a list of \"unverified\" or \"incorrect\" claims that need to be corrected.\\n\\n### Relevant Content [...] 1. Incoming Query: \"Summarize this 50-page commercial lease agreement, highlighting all tenant responsibilities and liabilities.\"\\n2. Step 1 (Generate Draft): The agent produces an initial summary of the document.\\n3. Step 2 (Reflection/Critique): The draft is fed into a \"Reflector\" prompt. This prompt instructs the LLM to act as a senior paralegal and check the summary specifically for:\\n\\n    Missed tenant obligations.\\n    Ambiguous phrasing.\\n    Incorrectly defined legal terms. [...] Reflection is a multi-step process that mimics the human creative cycle of drafting and revising. The agent first generates an initial response to a query. Then, in a separate step, it is prompted to act as a critic, reviewing its own work against a specific set of criteria (e.g., factual accuracy, tone, code quality). Finally, it uses the original draft and its own critique to generate a new, superior version.\\n\\n### 🏗 Use Cases',\n",
       "  'score': 0.6701125,\n",
       "  'raw_content': None},\n",
       " {'url': 'https://www.edureka.co/blog/agentic-ai-reflection-pattern/',\n",
       "  'title': 'What is Agentic AI Reflection Pattern? A Complete Guide - Edureka',\n",
       "  'content': 'The Agentic AI Reflection Pattern is an organized way for AI agents to think about their own work, criticize it, and get better over time. This pattern is changing the way machines think about how they think, whether they are solving hard math questions, writing essays, or making code.\\n\\n## What is Agentic AI Reflection Pattern? [...] Agentic AI uses agents with goals that can act on their own. Like a human agent working on their own, these agents can improve their work by thinking critically, which is a basic skill called the Reflection Pattern.\\n\\nThink of it as a personal coach inside the AI, guiding it to do better each time.\\n\\n## Practical Applications of the Reflection Pattern\\n\\n#### 1. Text Generation\\n\\nAI writing articles that check their own grammar, tone, or completeness. [...] In AI, the Reflection Pattern is a feedback loop in which an agent creates a product, thinks about how good or accurate it is, and then makes it better. This is especially helpful for hard jobs where the first try often needs to be improved. For example, suppose an AI is tasked with writing a haiku. The first version may miss the 5-7-5 syllable rule. Through reflection, it realizes this and regenerates a better version.',\n",
       "  'score': 0.6450534,\n",
       "  'raw_content': None},\n",
       " {'url': 'https://blog.langchain.com/reflection-agents/',\n",
       "  'title': 'Reflection Agents - LangChain Blog',\n",
       "  'content': \"Check out the code to see how it's implemented. In our LangGraph implementation, we put generation + reflection steps in a single node each, and check the tree state on each loop to see if the task is solved. The (abbreviated) graph definition looks something like below: [...] Skip to content\\n\\n# Reflection Agents\\n\\nReflection is a prompting strategy used to improve the quality and success rate of agents and similar AI systems. This post outlines how to build 3 reflection techniques using LangGraph, including implementations of Reflexion and Language Agent Tree Search.\\n\\n### Key Links\\n\\n Simple Reflection: (Python)\\n Reflexion: (Python)\\n Language Agents Tree Search: (Python)\\n Youtube [...] Reflection is a prompting strategy used to improve the quality and success rate of agents and similar AI systems. It involves prompting an LLM to reflect on and critique its past actions, sometimes incorporating additional external information such as tool observations.\",\n",
       "  'score': 0.6158511,\n",
       "  'raw_content': None}]"
      ]
     },
     "execution_count": 13,
     "metadata": {},
     "output_type": "execute_result"
    }
   ],
   "source": [
    "## Passing Tavily Results to LLM using LangChain\n",
    "\n",
    "from langchain.adapters.openai import convert_openai_messages # converts dictionaries to LangChain format\n",
    "from langchain_openai import ChatOpenAI\n",
    "\n",
    "query = \"What is the 'Reflection & Critique' pattern used in agentic applications and LangGraph?\"\n",
    "\n",
    "# Set the Tavily Search\n",
    "response = client.search(\n",
    "    query=query,\n",
    "    max_results=5,\n",
    "    search_depth=\"advanced\",\n",
    ")['results']\n",
    "\n",
    "response"
   ]
  },
  {
   "cell_type": "code",
   "execution_count": 15,
   "id": "c32d81d9",
   "metadata": {},
   "outputs": [
    {
     "data": {
      "text/plain": [
       "[SystemMessage(content='You are an AI critical thinker research assistant. Your sole purpose is to write well written, objective and structured reports on given text.', additional_kwargs={}, response_metadata={}),\n",
       " HumanMessage(content='Information: \\'\\'\\'[{\\'url\\': \\'https://medium.com/aimonks/reflection-agents-with-langgraph-agentic-llm-based-applications-87e43c27adc7\\', \\'title\\': \\'Reflection Agents With LangGraph | Agentic LLM Based Applications\\', \\'content\\': \\'In this first article, we’ll go over what is reflection in LLM based applications. Types of reflection agents and their implementations. When to use reflection agents and much more.\\\\n\\\\n## What Is Reflection?\\\\n\\\\nReflection is a prompting strategy used to improve the quality and success rate of agents and similar AI systems. It involves prompting an LLM to reflect on and critique its past actions, sometimes incorporating additional external information such as tools and observations. [...] So, let’s move ahead and create these two agents and have the reflect agent critique the initial response manually, then we’ll move on to doing the same with LangGraph in a more sophisticated and automated manner. Open the `basic_02.py`file and have the following code inside of it. [...] So basically to achieve reflection in LLM based systems, we have multiple LLM agents. Some that generate content(Generative part of LLMs). Others that reflect on generated content and give constructive criticism that can then be used to optimize the next generation in the cycle to make the content better. Let’s take a look into the types of these reflection types we can work with. There may be many more approaches considering the type of publishing this article. Keep this in mind.\\', \\'score\\': 0.7413937, \\'raw_content\\': None}, {\\'url\\': \\'https://www.analyticsvidhya.com/blog/2025/03/enhancing-code-quality-with-langgraph-reflection/\\', \\'title\\': \\'Enhancing Code Quality with LangGraph Reflection - Analytics Vidhya\\', \\'content\\': \\'### Frequently Asked Questions\\\\n\\\\nA. LangGraph Reflection is a powerful framework that combines a primary AI agent (for code generation or task execution) with a critique agent (to identify issues and suggest improvements). This iterative loop improves the final output by leveraging feedback and reflection. [...] 1. Main Agent: Generates initial code based on the user’s request.\\\\n2. Critique Agent: Validates the generated code using Pyright.\\\\n3. Reflection Process: If errors are detected, the main agent is called again to refine the code until no issues remain.\\\\n\\\\nAlso Read: Agentic Frameworks for Generative AI Applications\\\\n\\\\n## How to Implement the LangGraph Reflection Framework\\\\n\\\\nHere is a Step-by-Step Guide for an Illustrative Implementation and Usage:\\\\n\\\\n### Step 1: Environment Setup [...] A. The reflection mechanism follows this workflow:  \\\\n– Main Agent: Generates the initial output.  \\\\n– Critique Agent: Analyzes the generated output for errors or improvements.  \\\\n– Improvement Loop: If issues are found, the main agent is re-invoked with feedback for refinement. This loop continues until the output meets quality standards.\\', \\'score\\': 0.7154444, \\'raw_content\\': None}, {\\'url\\': \\'https://datalearningscience.com/p/4-reflection-agentic-design-pattern\\', \\'title\\': \\'4. Reflection — Agentic Design Pattern Series\\', \\'content\\': \\'When to Use: For fact-based content generation. The reflection step involves using a web search or database tool to verify every claim made in the first draft.\\\\n Key Tip: The critique is a list of \"unverified\" or \"incorrect\" claims that need to be corrected.\\\\n\\\\n### Relevant Content [...] 1. Incoming Query: \"Summarize this 50-page commercial lease agreement, highlighting all tenant responsibilities and liabilities.\"\\\\n2. Step 1 (Generate Draft): The agent produces an initial summary of the document.\\\\n3. Step 2 (Reflection/Critique): The draft is fed into a \"Reflector\" prompt. This prompt instructs the LLM to act as a senior paralegal and check the summary specifically for:\\\\n\\\\n    Missed tenant obligations.\\\\n    Ambiguous phrasing.\\\\n    Incorrectly defined legal terms. [...] Reflection is a multi-step process that mimics the human creative cycle of drafting and revising. The agent first generates an initial response to a query. Then, in a separate step, it is prompted to act as a critic, reviewing its own work against a specific set of criteria (e.g., factual accuracy, tone, code quality). Finally, it uses the original draft and its own critique to generate a new, superior version.\\\\n\\\\n### 🏗 Use Cases\\', \\'score\\': 0.6701125, \\'raw_content\\': None}, {\\'url\\': \\'https://www.edureka.co/blog/agentic-ai-reflection-pattern/\\', \\'title\\': \\'What is Agentic AI Reflection Pattern? A Complete Guide - Edureka\\', \\'content\\': \\'The Agentic AI Reflection Pattern is an organized way for AI agents to think about their own work, criticize it, and get better over time. This pattern is changing the way machines think about how they think, whether they are solving hard math questions, writing essays, or making code.\\\\n\\\\n## What is Agentic AI Reflection Pattern? [...] Agentic AI uses agents with goals that can act on their own. Like a human agent working on their own, these agents can improve their work by thinking critically, which is a basic skill called the Reflection Pattern.\\\\n\\\\nThink of it as a personal coach inside the AI, guiding it to do better each time.\\\\n\\\\n## Practical Applications of the Reflection Pattern\\\\n\\\\n#### 1. Text Generation\\\\n\\\\nAI writing articles that check their own grammar, tone, or completeness. [...] In AI, the Reflection Pattern is a feedback loop in which an agent creates a product, thinks about how good or accurate it is, and then makes it better. This is especially helpful for hard jobs where the first try often needs to be improved. For example, suppose an AI is tasked with writing a haiku. The first version may miss the 5-7-5 syllable rule. Through reflection, it realizes this and regenerates a better version.\\', \\'score\\': 0.6450534, \\'raw_content\\': None}, {\\'url\\': \\'https://blog.langchain.com/reflection-agents/\\', \\'title\\': \\'Reflection Agents - LangChain Blog\\', \\'content\\': \"Check out the code to see how it\\'s implemented. In our LangGraph implementation, we put generation + reflection steps in a single node each, and check the tree state on each loop to see if the task is solved. The (abbreviated) graph definition looks something like below: [...] Skip to content\\\\n\\\\n# Reflection Agents\\\\n\\\\nReflection is a prompting strategy used to improve the quality and success rate of agents and similar AI systems. This post outlines how to build 3 reflection techniques using LangGraph, including implementations of Reflexion and Language Agent Tree Search.\\\\n\\\\n### Key Links\\\\n\\\\n Simple Reflection: (Python)\\\\n Reflexion: (Python)\\\\n Language Agents Tree Search: (Python)\\\\n Youtube [...] Reflection is a prompting strategy used to improve the quality and success rate of agents and similar AI systems. It involves prompting an LLM to reflect on and critique its past actions, sometimes incorporating additional external information such as tool observations.\", \\'score\\': 0.6158511, \\'raw_content\\': None}]\\'\\'\\' \\n        Using the above information, answer the following query: \\'\\'\\'What is the \\'Reflection & Critique\\' pattern used in agentic applications and LangGraph?\\'\\'\\' in a detailed report.', additional_kwargs={}, response_metadata={})]"
      ]
     },
     "execution_count": 15,
     "metadata": {},
     "output_type": "execute_result"
    }
   ],
   "source": [
    "## Setting up the OpenAI API Prompt\n",
    "\n",
    "prompt = [\n",
    "    {\n",
    "        \"role\": \"system\", \"content\": f\"\"\"You are an AI critical thinker research assistant. Your sole purpose is to write well written, objective and structured reports on given text.\"\"\"\n",
    "    },\n",
    "    {\n",
    "        \"role\": \"user\",\n",
    "        \"content\": f\"\"\"Information: '''{response}''' \n",
    "        Using the above information, answer the following query: '''{query}''' in a detailed report.\"\"\"\n",
    "    }\n",
    "]\n",
    "\n",
    "\n",
    "lc_messages = convert_openai_messages(prompt) # Convert the OpenAI prompt into the Langchain format\n",
    "lc_messages"
   ]
  },
  {
   "cell_type": "code",
   "execution_count": 18,
   "id": "28015044",
   "metadata": {},
   "outputs": [
    {
     "name": "stdout",
     "output_type": "stream",
     "text": [
      "# Detailed Report on the 'Reflection & Critique' Pattern in Agentic Applications and LangGraph\n",
      "\n",
      "## Introduction\n",
      "The 'Reflection & Critique' pattern is an emerging strategy in agentic applications, particularly those powered by large language models (LLMs) such as LangGraph. This pattern emphasizes the iterative improvement of outputs generated by AI agents through reflective critique. The following report outlines the definition, mechanisms, types, and practical applications of this pattern based on recent literature.\n",
      "\n",
      "## Definition of Reflection & Critique\n",
      "Reflection in the context of agentic applications refers to a prompting strategy that aids AI agents in assessing and improving the outcomes of their generated content. By employing a system of feedback loops, agents are programmed to critique their own outputs critically, thereby enhancing the quality and effectiveness of subsequent iterations. This prompting mechanism incorporates both internal assessments and, where necessary, external data to refine the generated material.\n",
      "\n",
      "## Mechanism of Reflection & Critique\n",
      "The 'Reflection & Critique' pattern typically follows a structured workflow, which can be summarized in the following steps:\n",
      "\n",
      "1. **Initial Generation**: The primary agent generates an initial output based on a user query or task, such as code or text.\n",
      "  \n",
      "2. **Critique Process**: A separate critique agent evaluates the initial output, identifying errors, ambiguities, and areas for improvement. This step often involves specific criteria, such as correctness, clarity, and adherence to desired formats.\n",
      "  \n",
      "3. **Reflection and Improvement Loop**: If the critique agent identifies issues, it provides feedback back to the main agent. The main agent then reworks the initial output based on the critique, leading to a refined final output. This iterative process continues until the output meets predefined quality standards.\n",
      "\n",
      "### Example Implementation\n",
      "An example of how this mechanism works can be seen in coding tasks:\n",
      "\n",
      "- **Main Agent**: Generates initial code based on user requests.\n",
      "- **Critique Agent**: Validates the generated code for syntax and logical errors using tools, such as Pyright.\n",
      "- **Improvement Loop**: The code is refined iteratively through the feedback provided by the critique agent until no issues are present.\n",
      "\n",
      "These processes increase the reliability and performance of the outputs produced by the AI.\n",
      "\n",
      "## Types of Reflection Agents\n",
      "Several types of reflection agents can be employed depending on the nature of tasks and outputs being generated:\n",
      "\n",
      "1. **Fact-Checks**: Used for content generation to verify claims against external databases or web searches.\n",
      "2. **Content Quality Review**: Agents may check for grammar, tone, and completeness in textual outputs.\n",
      "3. **Technical Accuracy**: In programming, agents might critically assess generated code for structural correctness, best practices, and optimization opportunities.\n",
      "\n",
      "## Practical Applications\n",
      "The Reflection & Critique pattern has significant implications across various domains:\n",
      "\n",
      "- **Text Generation**: AI can autonomously generate articles while simultaneously reflecting on its output to improve grammar and coherence.\n",
      "- **Code Development**: Through reflection, generated code can be refined to adhere to syntax rules and enhance functionality.\n",
      "- **Creative Writing**: In creative tasks, such as poetry, AI can iterate on drafts to meet artistic criteria, e.g., syllable counts in haikus.\n",
      "\n",
      "## Conclusion\n",
      "The 'Reflection & Critique' pattern represents a profound advancement in the functionality of AI systems, particularly those utilizing LLM frameworks like LangGraph. By incorporating iterative feedback, these systems enhance their performance over time, providing higher-quality outputs. As agentic applications continue to evolve, the integration of reflection methodologies will be paramount to achieving greater levels of accuracy and sophistication in the work produced by AI agents.\n"
     ]
    }
   ],
   "source": [
    "response = ChatOpenAI(model=\"gpt-4o-mini\").invoke(lc_messages)\n",
    "print(response.content)"
   ]
  },
  {
   "cell_type": "markdown",
   "id": "d156fde9",
   "metadata": {},
   "source": [
    "### Enhancing the ChatBot with Tools"
   ]
  },
  {
   "cell_type": "code",
   "execution_count": 20,
   "id": "74805a49",
   "metadata": {},
   "outputs": [
    {
     "name": "stderr",
     "output_type": "stream",
     "text": [
      "/var/folders/pr/qgdwjqmn1fqfczkrkz6zwsjc0000gn/T/ipykernel_15664/876815667.py:3: LangChainDeprecationWarning: The class `TavilySearchResults` was deprecated in LangChain 0.3.25 and will be removed in 1.0. An updated version of the class exists in the :class:`~langchain-tavily package and should be used instead. To use it run `pip install -U :class:`~langchain-tavily` and import as `from :class:`~langchain_tavily import TavilySearch``.\n",
      "  tool = TavilySearchResults(max_results=3)\n"
     ]
    }
   ],
   "source": [
    "# Define the Tools \n",
    "from langchain_community.tools.tavily_search import TavilySearchResults\n",
    "tool = TavilySearchResults(max_results=3)\n",
    "tools = [tool] # tools contains only the TavilySearchResults tool\n"
   ]
  },
  {
   "cell_type": "code",
   "execution_count": 22,
   "id": "4cfc9785",
   "metadata": {},
   "outputs": [
    {
     "name": "stdout",
     "output_type": "stream",
     "text": [
      "[{'title': 'GPT-4o-mini - API, Providers, Stats | OpenRouter', 'url': 'https://openrouter.ai/openai/gpt-4o-mini', 'content': 'GPT-4o-mini GPT-4o mini is OpenAI\\'s newest model after GPT-4 Omni, supporting both text and image inputs with text outputs. As their most advanced small model, it is many multiples more affordable than other recent frontier models, and more than 60% cheaper than GPT-3.5 Turbo. It maintains SOTA intelligence, while being significantly more cost-effective. GPT-4o mini achieves an 82% score on MMLU and presently ranks higher than GPT-4 on chat preferences common leaderboards. Check out the launch [...] GPT-4o mini is OpenAI\\'s newest model after GPT-4 Omni, supporting both text and image inputs with text outputs.\\n\\nAs their most advanced small model, it is many multiples more affordable than other recent frontier models, and more than 60% cheaper than GPT-3.5 Turbo. It maintains SOTA intelligence, while being significantly more cost-effective.\\n\\nGPT-4o mini achieves an 82% score on MMLU and presently ranks higher than GPT-4 on chat preferences common leaderboards. [...] GPT-4o GPT-4o (\"o\" for \"omni\") is OpenAI\\'s latest AI model, supporting both text and image inputs with text outputs. It maintains the intelligence level of GPT-4 Turbo while being twice as fast and 50% more cost-effective. GPT-4o also offers improved performance in processing non-English languages and enhanced visual capabilities. For benchmarking against other models, it was briefly called \"im-also-a-good-gpt2-chatbot\" #multimodal', 'score': 0.9418739}, {'title': 'What Is GPT-4o Mini? How It Works, Use Cases, API & More', 'url': 'https://www.datacamp.com/blog/gpt-4o-mini', 'content': \"# What Is GPT-4o Mini? How It Works, Use Cases, API & More\\n\\nGPT-4o mini is a smaller, more affordable version of OpenAI's GPT-4o model, offering a balance of performance and cost-efficiency for various AI applications.\\n\\nJul 21, 2024  · 8 min read\\n\\nOpenAI has released GPT-4o mini, a more accessible version of the powerful GPT-4o. This new model aims to balance performance with cost-efficiency, addressing the needs of businesses and developers who want powerful AI solutions at a lower price point. [...] Demonstrate you can effectively and responsibly use AI.\\n\\nGet Certified, Get Hired\\n\\n## Conclusion\\n\\nGPT-4o mini stands out as a powerful and cost-effective AI model, achieving a notable balance between performance and affordability.\\n\\nIts distillation from the larger GPT-4o model, combined with its large context window, multimodal capabilities, and enhanced safety features, makes it a versatile and accessible option for a wide range of applications. [...] As the demand for efficient and affordable AI solutions continues to grow, GPT-4o mini is well-positioned to play a significant role in democratizing AI technology.\\n\\n## FAQs\\n\\n### What is the key difference between GPT-4o and GPT-4o Mini?\\n\\nThe main difference lies in their size and cost. GPT-4o is a larger, more powerful model, but it comes with a higher price tag. GPT-4o Mini is a distilled version of GPT-4o, making it smaller, more affordable, and faster for certain tasks.\", 'score': 0.93161833}, {'title': \"A Guide to GPT4o Mini: OpenAI's smaller, more efficient language ...\", 'url': 'https://kili-technology.com/large-language-models-llms/a-guide-to-gpt4o-mini-openai-s-smaller-more-efficient-language-model', 'content': 'GPT-4o Mini is a compact version of the GPT-4 model, the latest AI model designed to offer high-level intelligence at a reduced cost. This model builds upon previous advancements of GPT-4 and aims to make AI technology more affordable and accessible to a wider audience while maintaining high performance. It replaces GPT-3.5 turbo, which was once the smallest model that OpenAI offers.\\n\\n### Key Features and Innovations [...] ## Conclusion\\n\\nGPT-4o Mini represents a significant advancement in the field of AI, offering a powerful and cost-efficient solution that makes cutting-edge technology accessible to a broader audience. Its innovative features, coupled with a focus on efficiency and affordability, make it a compelling choice for various applications across industries. [...] Cut to GPT-4o Mini, a new model promising to deliver cost-efficient intelligence without compromising on performance. With GPT-4o Mini, OpenAI is making advanced AI capabilities more accessible, enabling businesses and developers to leverage cutting-edge technology without the hefty price tag.', 'score': 0.9296516}]\n"
     ]
    }
   ],
   "source": [
    "response = tool.invoke(\"What's GPT 4o mini\")\n",
    "print(response)"
   ]
  },
  {
   "cell_type": "code",
   "execution_count": 40,
   "id": "20b58208",
   "metadata": {},
   "outputs": [
    {
     "name": "stdout",
     "output_type": "stream",
     "text": [
      ".env file loaded!\n",
      "No OPENAI API KEY found\n",
      "OpenAI API KEY Authenticated\n"
     ]
    }
   ],
   "source": [
    "\"\"\"Chatbot using LangGraph with Tivaly Search API as a tool\n",
    "The Response Obtained by TivalySearchAPI and how the LLM creates a final answer based on the Tavily's Response.\n",
    "Now LLM can handle queries outside of trained data.\"\"\"\n",
    "\n",
    "# Loading important packages\n",
    "\n",
    "import os\n",
    "from langgraph.graph import StateGraph  # State\n",
    "from typing import Annotated\n",
    "from typing_extensions import TypedDict  # To Construct Agent State\n",
    "from langgraph.graph.message import add_messages\n",
    "from langchain_openai import ChatOpenAI\n",
    "from langchain_community.tools.tavily_search import TavilySearchResults\n",
    "from langchain.adapters.openai import (\n",
    "    convert_openai_messages,\n",
    ")  # converts dictionaries to LangChain format\n",
    "from langchain_openai import ChatOpenAI\n",
    "from IPython.display import Image, display\n",
    "from langgraph.prebuilt import (\n",
    "    ToolNode,\n",
    "    tools_condition,\n",
    ")  # Tool Node: Adds Tool in the nodes\n",
    "\n",
    "\n",
    "# Loading the env file\n",
    "from dotenv import load_dotenv, find_dotenv\n",
    "\n",
    "if load_dotenv(find_dotenv(), override=True):\n",
    "    print(\".env file loaded!\")\n",
    "else:\n",
    "    print(\".env file not found\")\n",
    "\n",
    "# Loading the OpenAI API Key\n",
    "api_key = os.environ.get(\"OEPNAI_API_KEY\")\n",
    "if api_key:\n",
    "    print(\"got the OpenAI API Key\")\n",
    "else:\n",
    "    print(\"No OPENAI API KEY found\")\n",
    "\n",
    "# Configure the OpenAI API Key\n",
    "client = ChatOpenAI(model=\"gpt-4o-mini\", temperature=0, api_key=api_key)\n",
    "if client:\n",
    "    print(\"OpenAI API KEY Authenticated\")\n",
    "else:\n",
    "    print(\"Authentication Rejected, retry\")\n",
    "\n",
    "\n",
    "# Graph\n",
    "class State(TypedDict):\n",
    "    messages: Annotated[list, add_messages]\n",
    "\n",
    "\n",
    "# Workflow\n",
    "workflow = StateGraph(State)\n",
    "\n",
    "tool = TavilySearchResults(max_results=3)  # Defined Tavily Tool\n",
    "tools = [tool]  # Storing the Tool\n",
    "\n",
    "# Setup LLM API\n",
    "llm = ChatOpenAI(model=\"gpt-4o-mini\", temperature=0.5)\n",
    "llm_with_tools = llm.bind_tools(tools=tools)  # bind llm with Tool - which tool can LLM call.\n",
    "\n",
    "\n",
    "# Define Nodes\n",
    "## LLM Node\n",
    "def chatbot(state: State):\n",
    "    \"\"\"This function takes present State as an input and returns llm output.\"\"\"\n",
    "    return {\"messages\": [llm_with_tools.invoke(state[\"messages\"])]}\n",
    "\n",
    "# Connect Nodes\n",
    "workflow.add_node(\"chatbot\", chatbot)\n",
    "\n",
    "# Tavily Node\n",
    "tool_node = ToolNode(tools=tools)\n",
    "workflow.add_node(\"tools\", tool_node)\n",
    "\n",
    "# Define the Conditional Edges\n",
    "workflow.add_conditional_edges(  # if the last AI message contains tool calls, route to the tool execution node; otherwise, end the workflow.\n",
    "    \"chatbot\",\n",
    "    tools_condition,  # end the workflow if no tools is called.\n",
    ")\n",
    "\n",
    "workflow.add_edge(\"tools\", \"chatbot\")\n",
    "\n",
    "workflow.set_entry_point(\"chatbot\")\n",
    "#workflow.set_finish_point(\"chatbot\")\n",
    "\n",
    "# Compile Graph\n",
    "graph = workflow.compile()"
   ]
  },
  {
   "cell_type": "code",
   "execution_count": 41,
   "id": "139ea266",
   "metadata": {},
   "outputs": [
    {
     "data": {
      "image/png": "[encoded data removed]",
      "text/plain": [
       "<IPython.core.display.Image object>"
      ]
     },
     "metadata": {},
     "output_type": "display_data"
    }
   ],
   "source": [
    "# Visualize Graph\n",
    "visualize_graph = display(Image(graph.get_graph().draw_mermaid_png()))\n",
    "visualize_graph"
   ]
  },
  {
   "cell_type": "code",
   "execution_count": 42,
   "id": "cd1ad224",
   "metadata": {},
   "outputs": [
    {
     "name": "stdout",
     "output_type": "stream",
     "text": [
      "WELCOME TO CHATBOT - LangGraph\n",
      "Assistant:  content='' additional_kwargs={'tool_calls': [{'id': 'call_dDsNRSew2kuBMCBcw4Z3HvEH', 'function': {'arguments': '{\"query\":\"100m swimming gold medal winner Paris Olympics 2024\"}', 'name': 'tavily_search_results_json'}, 'type': 'function'}], 'refusal': None} response_metadata={'token_usage': {'completion_tokens': 28, 'prompt_tokens': 92, 'total_tokens': 120, 'completion_tokens_details': {'accepted_prediction_tokens': 0, 'audio_tokens': 0, 'reasoning_tokens': 0, 'rejected_prediction_tokens': 0}, 'prompt_tokens_details': {'audio_tokens': 0, 'cached_tokens': 0}}, 'model_name': 'gpt-4o-mini-2024-07-18', 'system_fingerprint': 'fp_560af6e559', 'id': 'chatcmpl-CQgdCPS76wziprQ3jwsrkEFNdDCkz', 'service_tier': 'default', 'finish_reason': 'tool_calls', 'logprobs': None} id='run--51d5b026-7d06-4e42-9b89-8fd8e5a440c9-0' tool_calls=[{'name': 'tavily_search_results_json', 'args': {'query': '100m swimming gold medal winner Paris Olympics 2024'}, 'id': 'call_dDsNRSew2kuBMCBcw4Z3HvEH', 'type': 'tool_call'}] usage_metadata={'input_tokens': 92, 'output_tokens': 28, 'total_tokens': 120, 'input_token_details': {'audio': 0, 'cache_read': 0}, 'output_token_details': {'audio': 0, 'reasoning': 0}}\n",
      "--------------------------------------------------\n",
      "Assistant:  content='[{\"title\": \"Semi-Finals & Finals - Day 2 | Swimming | Olympic Games Paris 2024\", \"url\": \"https://www.olympics.com/en/video/semi-finals-finals-day-2-swimming-olympic-games-paris-2024/\", \"content\": \"The Day 2 Semi-Finals and Finals for Swimming took place on 28/07/2024 at Paris La Defense Arena. Leon Marchand (FRA) won the Gold in Men\\'s... 400m Individual, Torri Huske (USA) took the Gold for 100m Butterfly and the Gold for Men\\'s 100m Breaststroke went for the italian swimmer Nicolo Martinenghi.\\\\n\\\\nShow more;)\\\\n\\\\n## You may like [...] The Day 2 Semi-Finals and Finals for Swimming took place on 28/07/2024 at Paris La Defense Arena. Leon Marchand (FRA) won the Gold in Men\\'s... 400m Individual, Torri Huske (USA) took the Gold for 100m Butterfly and the Gold for Men\\'s 100m Breaststroke went for the italian swimmer Nicolo Martinenghi.\\\\n\\\\nShow more;)\\\\n\\\\nPresented by\\\\n\\\\n### Playlist\\\\n\\\\n11 Videos\\\\n\\\\n### Semi-Finals & Finals - Day 2 | Swimming | Olympic Games Paris 2024\\\\n\\\\n### Heats - Day 2 | Swimming | Olympic Games Paris 2024\", \"score\": 0.8266142}, {\"title\": \"Paris 2024 Swimming - Olympic Results by Discipline\", \"url\": \"https://www.olympics.com/en/olympic-games/paris-2024/results/swimming\", \"content\": \"See full results\\\\n\\\\n## Mixed 4 x 100m Medley Relay\\\\n\\\\nGold\\\\n\\\\nUnited States of America\\\\n\\\\nSilver\\\\n\\\\nPeople\\'s Republic of China\\\\n\\\\nBronze\\\\n\\\\nAustralia\\\\n\\\\nSee full results\\\\n\\\\n## Women\\'s 100m Backstroke\\\\n\\\\nGold\\\\n\\\\nKaylee MCKEOWN\\\\n\\\\nAustralia\\\\n\\\\nSilver\\\\n\\\\nRegan SMITH\\\\n\\\\nUnited States of America\\\\n\\\\nBronze\\\\n\\\\nKatharine BERKOFF\\\\n\\\\nUnited States of America\\\\n\\\\nSee full results\\\\n\\\\n## Women\\'s 100m Breaststroke\\\\n\\\\nGold\\\\n\\\\nTatjana SCHOENMAKER\\\\n\\\\nSouth Africa\\\\n\\\\nSilver\\\\n\\\\nQianting TANG\\\\n\\\\nPeople\\'s Republic of China\\\\n\\\\nBronze\\\\n\\\\nMona MC SHARRY\\\\n\\\\nIreland [...] People\\'s Republic of China\\\\n\\\\nBronze\\\\n\\\\nRyan MURPHY\\\\n\\\\nUnited States of America\\\\n\\\\nSee full results\\\\n\\\\n## Men\\'s 100m Breaststroke\\\\n\\\\nGold\\\\n\\\\nNicolo MARTINENGHI\\\\n\\\\nItaly\\\\n\\\\nSilver\\\\n\\\\nNic FINK\\\\n\\\\nUnited States of America\\\\n\\\\nSilver\\\\n\\\\nAdam PEATY\\\\n\\\\nGreat Britain\\\\n\\\\nSee full results\\\\n\\\\n## Men\\'s 100m Butterfly\\\\n\\\\nGold\\\\n\\\\nKristof MILAK\\\\n\\\\nHungary\\\\n\\\\nSilver\\\\n\\\\nJoshua LIENDO EDWARDS\\\\n\\\\nCanada\\\\n\\\\nBronze\\\\n\\\\nIlya KHARUN\\\\n\\\\nCanada\\\\n\\\\nSee full results\\\\n\\\\n## Men\\'s 100m Freestyle\\\\n\\\\nGold\\\\n\\\\nZhanle PAN\\\\n\\\\nPeople\\'s Republic of China\\\\n\\\\nSilver\\\\n\\\\nKyle CHALMERS\\\\n\\\\nAustralia [...] See full results\\\\n\\\\n## Women\\'s 100m Butterfly\\\\n\\\\nGold\\\\n\\\\nTorri HUSKE\\\\n\\\\nUnited States of America\\\\n\\\\nSilver\\\\n\\\\nGretchen WALSH\\\\n\\\\nUnited States of America\\\\n\\\\nBronze\\\\n\\\\nZHANG Yufei\\\\n\\\\nPeople\\'s Republic of China\\\\n\\\\nSee full results\\\\n\\\\n## Women\\'s 100m Freestyle\\\\n\\\\nGold\\\\n\\\\nSarah SJÖSTRÖM\\\\n\\\\nSweden\\\\n\\\\nSilver\\\\n\\\\nTorri HUSKE\\\\n\\\\nUnited States of America\\\\n\\\\nBronze\\\\n\\\\nSiobhan Bernadette HAUGHEY\\\\n\\\\nHong Kong, China\\\\n\\\\nSee full results\\\\n\\\\n## Women\\'s 1500m Freestyle\\\\n\\\\nGold\\\\n\\\\nKatie LEDECKY\\\\n\\\\nUnited States of America\\\\n\\\\nSilver\\\\n\\\\nAnastasiia KIRPICHNIKOVA\\\\n\\\\nFrance\", \"score\": 0.8106142}, {\"title\": \"Team USA Paris 2024 Olympic Swimming Team\", \"url\": \"https://www.teamusa.com/paris-2024/olympics/sports/swimming\", \"content\": \"Bobby Finke wins Gold in the Men\\'s 1500m Swimming to take home the first individual mens gold medal of the Olympic Ga...\\\\n ### My Keys to Success Presented By Xfinity: Evan Austin | Para Swimming\\\\n\\\\n  Paris 2024 Paralympian Evan Austin speaks on his keys to success.\\\\n\\\\n## Paris 2024 Medals#\\\\n\\\\nGold\\\\n\\\\nKatie Ledecky, Women\\'s 800m Freestyle\\\\n\\\\nBobby Finke, Men\\'s 1500m Freestyle\\\\n\\\\nKatie Ledecky, Women\\'s 1500m Freestyle\\\\n\\\\nKate Douglass, Women\\'s 200m Breaststroke\\\\n\\\\nTorri Huske, Women\\'s 100m Butterfly [...] NANTERRE, France – A triple-medal night at Paris’s La Défense Arena saw several Americans take home Olympic hardware in the women’s 4x200-meter freestyle relay, 200m breaststroke, and the 200m butterfly Thursday night. Kate Douglass grabbed the gold m...\\\\n ### Ledecky Wins 8th Olympic Gold Medal, Torri Huske Claims Silver in 100 Freestyle [...] NANTERRE, France — After nine days of swimming at Paris’ La Defense Arena, the U.S. women put an exclamation mark on the end of the the Olympic Games Paris 2024 — shutting down the pool with a new world record.After first-time Olympian Gretchen Walsh n...\\\\n ### Bobby Finke Wins First Olympic Gold For U.S. Men’s Swimming At Paris 2024\", \"score\": 0.7185356}]' name='tavily_search_results_json' id='d7af7318-fe4d-4dd6-a0c0-80210beabba4' tool_call_id='call_dDsNRSew2kuBMCBcw4Z3HvEH' artifact={'query': '100m swimming gold medal winner Paris Olympics 2024', 'follow_up_questions': None, 'answer': None, 'images': [], 'results': [{'url': 'https://www.olympics.com/en/video/semi-finals-finals-day-2-swimming-olympic-games-paris-2024/', 'title': 'Semi-Finals & Finals - Day 2 | Swimming | Olympic Games Paris 2024', 'content': \"The Day 2 Semi-Finals and Finals for Swimming took place on 28/07/2024 at Paris La Defense Arena. Leon Marchand (FRA) won the Gold in Men's... 400m Individual, Torri Huske (USA) took the Gold for 100m Butterfly and the Gold for Men's 100m Breaststroke went for the italian swimmer Nicolo Martinenghi.\\n\\nShow more;)\\n\\n## You may like [...] The Day 2 Semi-Finals and Finals for Swimming took place on 28/07/2024 at Paris La Defense Arena. Leon Marchand (FRA) won the Gold in Men's... 400m Individual, Torri Huske (USA) took the Gold for 100m Butterfly and the Gold for Men's 100m Breaststroke went for the italian swimmer Nicolo Martinenghi.\\n\\nShow more;)\\n\\nPresented by\\n\\n### Playlist\\n\\n11 Videos\\n\\n### Semi-Finals & Finals - Day 2 | Swimming | Olympic Games Paris 2024\\n\\n### Heats - Day 2 | Swimming | Olympic Games Paris 2024\", 'score': 0.8266142, 'raw_content': None}, {'url': 'https://www.olympics.com/en/olympic-games/paris-2024/results/swimming', 'title': 'Paris 2024 Swimming - Olympic Results by Discipline', 'content': \"See full results\\n\\n## Mixed 4 x 100m Medley Relay\\n\\nGold\\n\\nUnited States of America\\n\\nSilver\\n\\nPeople's Republic of China\\n\\nBronze\\n\\nAustralia\\n\\nSee full results\\n\\n## Women's 100m Backstroke\\n\\nGold\\n\\nKaylee MCKEOWN\\n\\nAustralia\\n\\nSilver\\n\\nRegan SMITH\\n\\nUnited States of America\\n\\nBronze\\n\\nKatharine BERKOFF\\n\\nUnited States of America\\n\\nSee full results\\n\\n## Women's 100m Breaststroke\\n\\nGold\\n\\nTatjana SCHOENMAKER\\n\\nSouth Africa\\n\\nSilver\\n\\nQianting TANG\\n\\nPeople's Republic of China\\n\\nBronze\\n\\nMona MC SHARRY\\n\\nIreland [...] People's Republic of China\\n\\nBronze\\n\\nRyan MURPHY\\n\\nUnited States of America\\n\\nSee full results\\n\\n## Men's 100m Breaststroke\\n\\nGold\\n\\nNicolo MARTINENGHI\\n\\nItaly\\n\\nSilver\\n\\nNic FINK\\n\\nUnited States of America\\n\\nSilver\\n\\nAdam PEATY\\n\\nGreat Britain\\n\\nSee full results\\n\\n## Men's 100m Butterfly\\n\\nGold\\n\\nKristof MILAK\\n\\nHungary\\n\\nSilver\\n\\nJoshua LIENDO EDWARDS\\n\\nCanada\\n\\nBronze\\n\\nIlya KHARUN\\n\\nCanada\\n\\nSee full results\\n\\n## Men's 100m Freestyle\\n\\nGold\\n\\nZhanle PAN\\n\\nPeople's Republic of China\\n\\nSilver\\n\\nKyle CHALMERS\\n\\nAustralia [...] See full results\\n\\n## Women's 100m Butterfly\\n\\nGold\\n\\nTorri HUSKE\\n\\nUnited States of America\\n\\nSilver\\n\\nGretchen WALSH\\n\\nUnited States of America\\n\\nBronze\\n\\nZHANG Yufei\\n\\nPeople's Republic of China\\n\\nSee full results\\n\\n## Women's 100m Freestyle\\n\\nGold\\n\\nSarah SJÖSTRÖM\\n\\nSweden\\n\\nSilver\\n\\nTorri HUSKE\\n\\nUnited States of America\\n\\nBronze\\n\\nSiobhan Bernadette HAUGHEY\\n\\nHong Kong, China\\n\\nSee full results\\n\\n## Women's 1500m Freestyle\\n\\nGold\\n\\nKatie LEDECKY\\n\\nUnited States of America\\n\\nSilver\\n\\nAnastasiia KIRPICHNIKOVA\\n\\nFrance\", 'score': 0.8106142, 'raw_content': None}, {'url': 'https://www.teamusa.com/paris-2024/olympics/sports/swimming', 'title': 'Team USA Paris 2024 Olympic Swimming Team', 'content': \"Bobby Finke wins Gold in the Men's 1500m Swimming to take home the first individual mens gold medal of the Olympic Ga...\\n ### My Keys to Success Presented By Xfinity: Evan Austin | Para Swimming\\n\\n  Paris 2024 Paralympian Evan Austin speaks on his keys to success.\\n\\n## Paris 2024 Medals#\\n\\nGold\\n\\nKatie Ledecky, Women's 800m Freestyle\\n\\nBobby Finke, Men's 1500m Freestyle\\n\\nKatie Ledecky, Women's 1500m Freestyle\\n\\nKate Douglass, Women's 200m Breaststroke\\n\\nTorri Huske, Women's 100m Butterfly [...] NANTERRE, France – A triple-medal night at Paris’s La Défense Arena saw several Americans take home Olympic hardware in the women’s 4x200-meter freestyle relay, 200m breaststroke, and the 200m butterfly Thursday night. Kate Douglass grabbed the gold m...\\n ### Ledecky Wins 8th Olympic Gold Medal, Torri Huske Claims Silver in 100 Freestyle [...] NANTERRE, France — After nine days of swimming at Paris’ La Defense Arena, the U.S. women put an exclamation mark on the end of the the Olympic Games Paris 2024 — shutting down the pool with a new world record.After first-time Olympian Gretchen Walsh n...\\n ### Bobby Finke Wins First Olympic Gold For U.S. Men’s Swimming At Paris 2024\", 'score': 0.7185356, 'raw_content': None}], 'response_time': 1.82, 'request_id': 'f23dc4f0-96cb-4ccd-80fc-bf732f2acb09'}\n",
      "--------------------------------------------------\n",
      "Assistant:  content=\"At the Paris Olympics 2024, the gold medal in the Men's 100m Freestyle was won by Zhanle Pan from the People's Republic of China.\" additional_kwargs={'refusal': None} response_metadata={'token_usage': {'completion_tokens': 34, 'prompt_tokens': 1373, 'total_tokens': 1407, 'completion_tokens_details': {'accepted_prediction_tokens': 0, 'audio_tokens': 0, 'reasoning_tokens': 0, 'rejected_prediction_tokens': 0}, 'prompt_tokens_details': {'audio_tokens': 0, 'cached_tokens': 0}}, 'model_name': 'gpt-4o-mini-2024-07-18', 'system_fingerprint': 'fp_560af6e559', 'id': 'chatcmpl-CQgdHT6zvWdSzTEUfeFgDAhOEvI6a', 'service_tier': 'default', 'finish_reason': 'stop', 'logprobs': None} id='run--f3e4db0a-f160-44ad-8397-874b57207d9b-0' usage_metadata={'input_tokens': 1373, 'output_tokens': 34, 'total_tokens': 1407, 'input_token_details': {'audio': 0, 'cache_read': 0}, 'output_token_details': {'audio': 0, 'reasoning': 0}}\n",
      "--------------------------------------------------\n",
      "Assistant:  content='' additional_kwargs={'tool_calls': [{'id': 'call_3yMsRI7KhOW6wEhjVjSJC4jx', 'function': {'arguments': '{\"query\":\"Gymnastics news and updates\"}', 'name': 'tavily_search_results_json'}, 'type': 'function'}], 'refusal': None} response_metadata={'token_usage': {'completion_tokens': 23, 'prompt_tokens': 84, 'total_tokens': 107, 'completion_tokens_details': {'accepted_prediction_tokens': 0, 'audio_tokens': 0, 'reasoning_tokens': 0, 'rejected_prediction_tokens': 0}, 'prompt_tokens_details': {'audio_tokens': 0, 'cached_tokens': 0}}, 'model_name': 'gpt-4o-mini-2024-07-18', 'system_fingerprint': 'fp_560af6e559', 'id': 'chatcmpl-CQgdtDNoWE6Vj2S2w9YV8ionoWHNV', 'service_tier': 'default', 'finish_reason': 'tool_calls', 'logprobs': None} id='run--cfd21471-467b-4200-84dc-8dfb15579515-0' tool_calls=[{'name': 'tavily_search_results_json', 'args': {'query': 'Gymnastics news and updates'}, 'id': 'call_3yMsRI7KhOW6wEhjVjSJC4jx', 'type': 'tool_call'}] usage_metadata={'input_tokens': 84, 'output_tokens': 23, 'total_tokens': 107, 'input_token_details': {'audio': 0, 'cache_read': 0}, 'output_token_details': {'audio': 0, 'reasoning': 0}}\n",
      "--------------------------------------------------\n",
      "Assistant:  content='[{\"title\": \"USA Gymnastics news - Today\\'s latest updates\", \"url\": \"https://www.cbsnews.com/tag/usa-gymnastics/\", \"content\": \"Béla Károlyi, who coached the U.S. women\\'s gymnastics team to its first Olympic gold medal, has died at age 82. Shanelle Kaul looks back at his life and controversial legacy.\\\\n\\\\n Nov 17, 2024\\\\n 01:39\\\\n\\\\n#### Jordan Chiles takes bid to reclaim Olympic bronze to Swiss Supreme Court\\\\n\\\\nAmerican gymnast Jordan Chiles is asking Switzerland\\'s Supreme Court to overturn a ruling by the Court of Arbitration for Sport that stripped her of a bronze medal at the 2024 Olympics.\\\\n\\\\n Sep 16, 2024 [...] Simone Biles won silver in the women\\'s gymnastics individual floor final at the Paris Olympics on Monday. Earlier falls on the balance beam, including falls by Biles and Suni Lee, left the U.S. out of individual medals contention in that apparatus. \\\\\"CBS Saturday Morning\\\\\" co-host and CBS News and sports correspondent Dana Jacobson is in Paris with a recap.\\\\n\\\\n Aug 5, 2024\\\\n 05:10\\\\n\\\\n#### Simone Biles wins silver on floor, Jordan Chiles takes bronze [...] Gymnast Simone Biles took a clear swipe at former President Donald Trump on social media Friday, posting \\\\\"I love my black job\\\\\" following her second gold medal win at the Paris Olympics. \\\\\"CBS Saturday Morning\\\\\" co-host and CBS News and sports correspondent Dana Jacobson is in Paris with the latest on the Games.\\\\n\\\\n Aug 2, 2024\\\\n 04:21\\\\n\\\\n#### 8/2: CBS Morning News\\\\n\\\\nAmericans freed from Russia back on U.S. soil; Team USA women win big at Day 6 of Paris Olympics.\\\\n\\\\n Aug 2, 2024\\\\n 20:13\", \"score\": 0.7797419}, {\"title\": \"Gymnastics - Latest News & Updates - BBC Sport\", \"url\": \"https://www.bbc.com/sport/gymnastics\", \"content\": \"- Attribution\\\\n\\\\n     Nottinghamshire\\\\n\\\\n   Tyliyah, looking at the camera, in her competition kit\\\\n8. ### 11:33 BST 21 JuneOlympic great Chusovitina, 50, wins World Challenge Cup silver , published at 11:33 BST 21 JuneOlympic great Chusovitina, 50, wins World Challenge Cup silver\\\\n\\\\n   - Attribution\\\\n\\\\n     Olympic Games [...] Oksana Chusovitina about to leap on a vault\\\\n9. ### 19:27 BST 14 JuneHonour for coach in sport that \\'grabbed her heart\\', published at 19:27 BST 14 JuneHonour for coach in sport that \\'grabbed her heart\\'\\\\n\\\\n   - Attribution\\\\n\\\\n     Shropshire\\\\n\\\\n   Christine is standing in a gym wearing a tracksuit. She is smiling and has bobbed blonde hair.\\\\n10. ### 11:00 BST 7 JuneBiles calls Gaines \\'sick\\' in trans rights row, published at 11:00 BST 7 JuneBiles calls Gaines \\'sick\\' in trans rights row [...] News\\\\n\\\\n    Gymnast Mary Lou Retton visits at SiriusXM Studio on August 9, 2016 in New York City. She wears a blue top.\\\\n21. ### 09:29 BST 23 MayMixed team final to debut at European Gymnastics Championships, published at 09:29 BST 23 MayMixed team final to debut at European Gymnastics Championships\\\\n\\\\n    - Attribution\\\\n\\\\n      Gymnastics\\\\n\\\\n    Jake Jarman in action on the parallel bars\\\\n\\\\nprevious page\\\\n\\\\nPage 1 of 34\\\\n\\\\n1. 1\\\\n2. 2\\\\n3. 3\\\\n4. 4\\\\n5. 5\\\\n6. 6\\\\n7. …\\\\n8. 34\\\\n\\\\nnext page\", \"score\": 0.7300017}, {\"title\": \"2025 - USA Gymnastics\", \"url\": \"https://usagym.org/news/2025/\", \"content\": \"## U.S. Classic schedule update: Senior session added; Junior session moves to Friday\\\\n\\\\nJune 23, 2025\\\\n\\\\nWith high numbers of qualified athletes, the U.S. Classic set for July 18-19 at NOW Arena in Hoffman Estates, Illinois, has added an additional senior elite session on July 19. The junior elite session will move to Friday evening, July 18.\\\\n\\\\nJune 23, 2025\\\\n\\\\nJun 23, 2025\\\\n\\\\n## USA Gymnastics announces 2025-26 U.S. National Teams for acrobatic, rhythmic and trampoline and tumbling\\\\n\\\\nJune 23, 2025 [...] June 27, 2025\\\\n\\\\nThe 2025-2026 USA Gymnastics membership season is now open! Please review the information below for important updates and reminders for the upcoming season.\\\\n\\\\nJune 25, 2025\\\\n\\\\nJun 25, 2025\\\\n\\\\n## Weekly Preview June 25: Acro Rzeszow World Cup; MAG National Qualifier, WAG American/Hopes Classic\\\\n\\\\nJune 25, 2025\\\\n\\\\nAcrobatic athletes compete in Europe while artistic gymnasts perform across the U.S. this weekend.\\\\n\\\\nJune 23, 2025\\\\n\\\\nJun 23, 2025\", \"score\": 0.6917478}]' name='tavily_search_results_json' id='f29cbf10-8fcb-4aca-9ac5-9750f2ef06ae' tool_call_id='call_3yMsRI7KhOW6wEhjVjSJC4jx' artifact={'query': 'Gymnastics news and updates', 'follow_up_questions': None, 'answer': None, 'images': [], 'results': [{'url': 'https://www.cbsnews.com/tag/usa-gymnastics/', 'title': \"USA Gymnastics news - Today's latest updates\", 'content': 'Béla Károlyi, who coached the U.S. women\\'s gymnastics team to its first Olympic gold medal, has died at age 82. Shanelle Kaul looks back at his life and controversial legacy.\\n\\n Nov 17, 2024\\n 01:39\\n\\n#### Jordan Chiles takes bid to reclaim Olympic bronze to Swiss Supreme Court\\n\\nAmerican gymnast Jordan Chiles is asking Switzerland\\'s Supreme Court to overturn a ruling by the Court of Arbitration for Sport that stripped her of a bronze medal at the 2024 Olympics.\\n\\n Sep 16, 2024 [...] Simone Biles won silver in the women\\'s gymnastics individual floor final at the Paris Olympics on Monday. Earlier falls on the balance beam, including falls by Biles and Suni Lee, left the U.S. out of individual medals contention in that apparatus. \"CBS Saturday Morning\" co-host and CBS News and sports correspondent Dana Jacobson is in Paris with a recap.\\n\\n Aug 5, 2024\\n 05:10\\n\\n#### Simone Biles wins silver on floor, Jordan Chiles takes bronze [...] Gymnast Simone Biles took a clear swipe at former President Donald Trump on social media Friday, posting \"I love my black job\" following her second gold medal win at the Paris Olympics. \"CBS Saturday Morning\" co-host and CBS News and sports correspondent Dana Jacobson is in Paris with the latest on the Games.\\n\\n Aug 2, 2024\\n 04:21\\n\\n#### 8/2: CBS Morning News\\n\\nAmericans freed from Russia back on U.S. soil; Team USA women win big at Day 6 of Paris Olympics.\\n\\n Aug 2, 2024\\n 20:13', 'score': 0.7797419, 'raw_content': None}, {'url': 'https://www.bbc.com/sport/gymnastics', 'title': 'Gymnastics - Latest News & Updates - BBC Sport', 'content': \"- Attribution\\n\\n     Nottinghamshire\\n\\n   Tyliyah, looking at the camera, in her competition kit\\n8. ### 11:33 BST 21 JuneOlympic great Chusovitina, 50, wins World Challenge Cup silver , published at 11:33 BST 21 JuneOlympic great Chusovitina, 50, wins World Challenge Cup silver\\n\\n   - Attribution\\n\\n     Olympic Games [...] Oksana Chusovitina about to leap on a vault\\n9. ### 19:27 BST 14 JuneHonour for coach in sport that 'grabbed her heart', published at 19:27 BST 14 JuneHonour for coach in sport that 'grabbed her heart'\\n\\n   - Attribution\\n\\n     Shropshire\\n\\n   Christine is standing in a gym wearing a tracksuit. She is smiling and has bobbed blonde hair.\\n10. ### 11:00 BST 7 JuneBiles calls Gaines 'sick' in trans rights row, published at 11:00 BST 7 JuneBiles calls Gaines 'sick' in trans rights row [...] News\\n\\n    Gymnast Mary Lou Retton visits at SiriusXM Studio on August 9, 2016 in New York City. She wears a blue top.\\n21. ### 09:29 BST 23 MayMixed team final to debut at European Gymnastics Championships, published at 09:29 BST 23 MayMixed team final to debut at European Gymnastics Championships\\n\\n    - Attribution\\n\\n      Gymnastics\\n\\n    Jake Jarman in action on the parallel bars\\n\\nprevious page\\n\\nPage 1 of 34\\n\\n1. 1\\n2. 2\\n3. 3\\n4. 4\\n5. 5\\n6. 6\\n7. …\\n8. 34\\n\\nnext page\", 'score': 0.7300017, 'raw_content': None}, {'url': 'https://usagym.org/news/2025/', 'title': '2025 - USA Gymnastics', 'content': '## U.S. Classic schedule update: Senior session added; Junior session moves to Friday\\n\\nJune 23, 2025\\n\\nWith high numbers of qualified athletes, the U.S. Classic set for July 18-19 at NOW Arena in Hoffman Estates, Illinois, has added an additional senior elite session on July 19. The junior elite session will move to Friday evening, July 18.\\n\\nJune 23, 2025\\n\\nJun 23, 2025\\n\\n## USA Gymnastics announces 2025-26 U.S. National Teams for acrobatic, rhythmic and trampoline and tumbling\\n\\nJune 23, 2025 [...] June 27, 2025\\n\\nThe 2025-2026 USA Gymnastics membership season is now open! Please review the information below for important updates and reminders for the upcoming season.\\n\\nJune 25, 2025\\n\\nJun 25, 2025\\n\\n## Weekly Preview June 25: Acro Rzeszow World Cup; MAG National Qualifier, WAG American/Hopes Classic\\n\\nJune 25, 2025\\n\\nAcrobatic athletes compete in Europe while artistic gymnasts perform across the U.S. this weekend.\\n\\nJune 23, 2025\\n\\nJun 23, 2025', 'score': 0.6917478, 'raw_content': None}], 'response_time': 1.85, 'request_id': '2b470c6c-d950-4e3e-b079-797b6daa02dd'}\n",
      "--------------------------------------------------\n",
      "Assistant:  content=\"Here are some recent updates and news about gymnastics:\\n\\n1. **USA Gymnastics News**:\\n   - Béla Károlyi, a notable coach for the U.S. women's gymnastics team, has passed away at age 82. His legacy is remembered as both significant and controversial.\\n   - Jordan Chiles is appealing to the Swiss Supreme Court to reclaim a bronze medal stripped from her at the 2024 Olympics.\\n   - Simone Biles won a silver medal in the women's gymnastics individual floor final at the Paris Olympics, following some challenges on the balance beam. [Read more here](https://www.cbsnews.com/tag/usa-gymnastics/).\\n\\n2. **BBC Sport Updates**:\\n   - Olympic legend Oksana Chusovitina, now 50, recently won a silver medal at the World Challenge Cup.\\n   - There has been ongoing discussion regarding trans rights within the sport, with Simone Biles recently expressing her views on the matter. [More details available here](https://www.bbc.com/sport/gymnastics).\\n\\n3. **Upcoming Events**:\\n   - The U.S. Classic gymnastics event is scheduled for July 18-19, 2025, in Hoffman Estates, Illinois, with an additional senior elite session added due to high participation. [Further information can be found here](https://usagym.org/news/2025/).\\n\\nThese updates reflect ongoing developments in the gymnastics community, including competitions, athlete achievements, and broader discussions surrounding the sport.\" additional_kwargs={'refusal': None} response_metadata={'token_usage': {'completion_tokens': 308, 'prompt_tokens': 1284, 'total_tokens': 1592, 'completion_tokens_details': {'accepted_prediction_tokens': 0, 'audio_tokens': 0, 'reasoning_tokens': 0, 'rejected_prediction_tokens': 0}, 'prompt_tokens_details': {'audio_tokens': 0, 'cached_tokens': 0}}, 'model_name': 'gpt-4o-mini-2024-07-18', 'system_fingerprint': 'fp_560af6e559', 'id': 'chatcmpl-CQgdyWe36C8qKAB3tCcqKy2Zw7vFC', 'service_tier': 'default', 'finish_reason': 'stop', 'logprobs': None} id='run--2e97f5cd-b7df-47a9-99d6-5a7590de9ec4-0' usage_metadata={'input_tokens': 1284, 'output_tokens': 308, 'total_tokens': 1592, 'input_token_details': {'audio': 0, 'cache_read': 0}, 'output_token_details': {'audio': 0, 'reasoning': 0}}\n",
      "--------------------------------------------------\n",
      "Exited.\n"
     ]
    }
   ],
   "source": [
    "# Simple Chatbot using LangGraph\n",
    "print(\"WELCOME TO CHATBOT - LangGraph\")\n",
    "while True: \n",
    "    user_input = input(\"User: \")\n",
    "    if user_input.lower() in [\"bye\", \"quit\", \"exit\", \"q\"]:\n",
    "        print(\"Exited.\")\n",
    "        break\n",
    "\n",
    "    for event in graph.stream({\"messages\": (\"user\", user_input)}):\n",
    "        for value in event.values():  \n",
    "                print(\"Assistant: \", value[\"messages\"][-1])\n",
    "            \n",
    "        print(\"-\"*50)   "
   ]
  },
  {
   "cell_type": "code",
   "execution_count": null,
   "id": "98c207dd",
   "metadata": {},
   "outputs": [],
   "source": []
  },
  {
   "cell_type": "code",
   "execution_count": null,
   "id": "4b55b8d8",
   "metadata": {},
   "outputs": [],
   "source": []
  }
 ],
 "metadata": {
  "kernelspec": {
   "display_name": "llm (3.12.4)",
   "language": "python",
   "name": "python3"
  },
  "language_info": {
   "codemirror_mode": {
    "name": "ipython",
    "version": 3
   },
   "file_extension": ".py",
   "mimetype": "text/x-python",
   "name": "python",
   "nbconvert_exporter": "python",
   "pygments_lexer": "ipython3",
   "version": "3.12.4"
  }
 },
 "nbformat": 4,
 "nbformat_minor": 5
}
